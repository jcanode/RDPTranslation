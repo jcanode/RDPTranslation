{
 "metadata": {
  "language_info": {
   "codemirror_mode": {
    "name": "ipython",
    "version": 3
   },
   "file_extension": ".py",
   "mimetype": "text/x-python",
   "name": "python",
   "nbconvert_exporter": "python",
   "pygments_lexer": "ipython3",
   "version": "3.8.5-final"
  },
  "orig_nbformat": 2,
  "kernelspec": {
   "name": "python38564bit923bdb9dbde4441fa27ccb5ba6d2aec9",
   "display_name": "Python 3.8.5 64-bit"
  }
 },
 "nbformat": 4,
 "nbformat_minor": 2,
 "cells": [
  {
   "cell_type": "code",
   "execution_count": 15,
   "metadata": {
    "tags": []
   },
   "outputs": [
    {
     "output_type": "stream",
     "name": "stdout",
     "text": "Requirement already satisfied: nltk in c:\\users\\justi\\appdata\\local\\programs\\python\\python38\\lib\\site-packages (3.5)\nRequirement already satisfied: sklearn in c:\\users\\justi\\appdata\\local\\programs\\python\\python38\\lib\\site-packages (0.0)\nRequirement already satisfied: joblib in c:\\users\\justi\\appdata\\local\\programs\\python\\python38\\lib\\site-packages (from nltk) (0.16.0)\nRequirement already satisfied: regex in c:\\users\\justi\\appdata\\local\\programs\\python\\python38\\lib\\site-packages (from nltk) (2020.7.14)\nRequirement already satisfied: tqdm in c:\\users\\justi\\appdata\\local\\programs\\python\\python38\\lib\\site-packages (from nltk) (4.48.2)\nRequirement already satisfied: click in c:\\users\\justi\\appdata\\local\\programs\\python\\python38\\lib\\site-packages (from nltk) (7.1.2)\nRequirement already satisfied: scikit-learn in c:\\users\\justi\\appdata\\local\\programs\\python\\python38\\lib\\site-packages (from sklearn) (0.23.2)\nRequirement already satisfied: scipy>=0.19.1 in c:\\users\\justi\\appdata\\local\\programs\\python\\python38\\lib\\site-packages (from scikit-learn->sklearn) (1.4.1)\nRequirement already satisfied: numpy>=1.13.3 in c:\\users\\justi\\appdata\\local\\programs\\python\\python38\\lib\\site-packages (from scikit-learn->sklearn) (1.18.5)\nRequirement already satisfied: threadpoolctl>=2.0.0 in c:\\users\\justi\\appdata\\local\\programs\\python\\python38\\lib\\site-packages (from scikit-learn->sklearn) (2.1.0)\n"
    }
   ],
   "source": [
    "!python -m pip install nltk sklearn"
   ]
  },
  {
   "cell_type": "code",
   "execution_count": 2,
   "metadata": {},
   "outputs": [],
   "source": [
    "# Import all requirments\n",
    "import tensorflow as tf\n",
    "# import tensorflow_datasets as tfds\n",
    "import time\n",
    "import  os\n",
    "import io\n",
    "from nltk.translate.bleu_score import corpus_bleu\n",
    "from sklearn.model_selection import train_test_split"
   ]
  },
  {
   "cell_type": "code",
   "execution_count": 3,
   "metadata": {
    "tags": []
   },
   "outputs": [
    {
     "output_type": "stream",
     "name": "stdout",
     "text": "Time required to load data --- 0.0 seconds ---\n"
    }
   ],
   "source": [
    "start_time = time.time()\n",
    "## load data\n",
    "# german_data_path = os.path.join(os.path.curdir,\"./data/europarl-v7.de-en.de\")\n",
    "german_data_path= r\"C:\\Users\\justi\\Documents\\RDPTranslation\\initalTest\\data\\europarl-v7.de-en.de\"\n",
    "# english_data_path = os.path.join(os.path.curdir,\"./data/europarl-v7.de-en.en\")\n",
    "english_data_path = r\"C:\\Users\\justi\\Documents\\RDPTranslation\\initalTest\\data\\europarl-v7.de-en.en\"\n",
    "print(\"Time required to load data --- %s seconds ---\" % (time.time() - start_time))\n"
   ]
  },
  {
   "cell_type": "code",
   "execution_count": 4,
   "metadata": {
    "tags": []
   },
   "outputs": [
    {
     "output_type": "stream",
     "name": "stdout",
     "text": ".\n"
    }
   ],
   "source": [
    "path = os.path.curdir\n",
    "print(path)"
   ]
  },
  {
   "cell_type": "code",
   "execution_count": 7,
   "metadata": {
    "tags": []
   },
   "outputs": [
    {
     "output_type": "stream",
     "name": "stdout",
     "text": "Time required to create dataset --- 5.069437742233276 seconds ---\n"
    }
   ],
   "source": [
    "## Load data from file and into a dataset in memory\n",
    "start_time = time.time()\n",
    "def create_dataset(germ_path, eng_path):\n",
    "  germ_lines = io.open(germ_path, encoding='UTF-8').read().strip().split('\\n')\n",
    "  eng_lines = io.open(eng_path, encoding='UTF-8').read().strip().split('\\n')\n",
    "  return germ_lines, eng_lines\n",
    "german_data, english_data = create_dataset(german_data_path, english_data_path)\n",
    "print(\"Time required to create dataset --- %s seconds ---\" % (time.time() - start_time))\n",
    "\n"
   ]
  },
  {
   "cell_type": "code",
   "execution_count": 105,
   "metadata": {
    "tags": []
   },
   "outputs": [
    {
     "output_type": "stream",
     "name": "stdout",
     "text": "Read english tokenizer input from  C:\\Users\\justi\\Documents\\RDPTranslation\\initalTest\\tokenizerConfig\\english_config.json\nRead german tokenizer input from  C:\\Users\\justi\\Documents\\RDPTranslation\\initalTest\\tokenizerConfig\\english_config.json\nTime required to tokenize data --- 112.26947402954102 seconds ---\n"
    }
   ],
   "source": [
    "## Tokenize german and english sequences\n",
    "start_time = time.time()\n",
    "\n",
    "en_tokenizer = tf.keras.preprocessing.text.Tokenizer(filters='')\n",
    "## Uncomment these lines for first time running the program to configure tokenizer (helps speed up run time)\n",
    "# en_tokenizer.fit_on_texts(english_data)\n",
    "# english_config = en_tokenizer.to_json()\n",
    "\n",
    "# english_config_path = os.path.join(r\"./tokenizerConfig/english_config.json\")\n",
    "\n",
    "english_config_path = r\"C:\\Users\\justi\\Documents\\RDPTranslation\\initalTest\\tokenizerConfig\\english_config.json\"\n",
    "## Uncomment these lines for first time running the program to configure tokenizer (helps speed up run time)\n",
    "# io.open(english_config_path,'w').write(english_config)\n",
    "# print(\"Wrote english config to \", english_config_path)\n",
    "\n",
    "## Comment lines out first time runnint to avoid reloading config\n",
    "english_config = io.open(english_config_path, encoding='UTF-8').read()\n",
    "en_tokenizer =  tf.keras.preprocessing.text.tokenizer_from_json(english_config)\n",
    "print(\"Read english tokenizer input from \", english_config_path)\n",
    "\n",
    "## Tokenize english data\n",
    "data_en = en_tokenizer.texts_to_sequences(english_data)\n",
    "data_en = tf.keras.preprocessing.sequence.pad_sequences(data_en,padding='post')\n",
    "\n",
    "ge_tokenizer = tf.keras.preprocessing.text.Tokenizer(filters='')\n",
    "\n",
    "## Uncomment these lines for first time running the program to configure tokenizer (helps speed up run time)\n",
    "# ge_tokenizer.fit_on_texts(german_data)\n",
    "# german_config = ge_tokenizer.to_json()\n",
    "\n",
    "# german_config_path = os.path.join(r\"./tokenizerConfig/german_config.json\")\n",
    "german_config_path = r\"C:\\Users\\justi\\Documents\\RDPTranslation\\initalTest\\tokenizerConfig\\english_config.json\"\n",
    "## Uncomment these lines for first time running the program to configure tokenizer (helps speed up run time)\n",
    "# io.open(german_config_path,'w').write(german_config)\n",
    "# print(\"Wrote german config to \", german_config_path)\n",
    "\n",
    "## Comment lines out first time runnint to avoid reloading config\n",
    "german_config = io.open(german_config_path, encoding='UTF-8').read()\n",
    "ge_tokenizer =  tf.keras.preprocessing.text.tokenizer_from_json(german_config)\n",
    "print(\"Read german tokenizer input from \", german_config_path)\n",
    "\n",
    "## tokenize german data\n",
    "data_ge = ge_tokenizer.texts_to_sequences(german_data)\n",
    "data_ge = tf.keras.preprocessing.sequence.pad_sequences(data_ge,padding='post',maxlen=668)\n",
    "\n",
    "print(\"Time required to tokenize data --- %s seconds ---\" % (time.time() - start_time))\n"
   ]
  },
  {
   "cell_type": "code",
   "execution_count": 106,
   "metadata": {
    "tags": []
   },
   "outputs": [
    {
     "output_type": "stream",
     "name": "stdout",
     "text": "Time required to slice data --- 351.1705422401428 seconds ---\n"
    }
   ],
   "source": [
    "\n",
    "start_time = time.time()\n",
    "## slice data with an 80/20 split\n",
    "X_train,  X_test, Y_train, Y_test = train_test_split(data_en,data_ge,test_size=0.4)\n",
    "print(\"Time required to slice data --- %s seconds ---\" % (time.time() - start_time))\n"
   ]
  },
  {
   "cell_type": "code",
   "execution_count": 103,
   "metadata": {
    "tags": []
   },
   "outputs": [
    {
     "output_type": "stream",
     "name": "stdout",
     "text": "1920209\n1920209\n"
    }
   ],
   "source": [
    "print(len(data_en))\n",
    "print(len(data_ge))"
   ]
  },
  {
   "cell_type": "code",
   "execution_count": 107,
   "metadata": {
    "tags": []
   },
   "outputs": [
    {
     "output_type": "stream",
     "name": "stdout",
     "text": "(1152125, 668, 1)\n(1152125, 668, 1)\n"
    }
   ],
   "source": [
    "## Convert data to tensor and print shape of X_train (english training data)\n",
    "Dtype = tf.float32\n",
    "\n",
    "X_train = tf.convert_to_tensor(X_train,dtype=Dtype)\n",
    "X_train = tf.reshape(X_train, [X_train.shape[0], X_train.shape[1], 1])\n",
    "print(X_train.shape)\n",
    "X_test = tf.convert_to_tensor(X_test,dtype=Dtype)\n",
    "Y_train = tf.convert_to_tensor(Y_train,dtype=Dtype)\n",
    "Y_train = tf.reshape(Y_train, [Y_train.shape[0], Y_train.shape[1], 1])\n",
    "print(Y_train.shape)\n",
    "Y_test = tf.convert_to_tensor(Y_test,dtype=Dtype)\n",
    "\n",
    "\n",
    "\n"
   ]
  },
  {
   "cell_type": "code",
   "execution_count": 108,
   "metadata": {
    "tags": []
   },
   "outputs": [
    {
     "output_type": "stream",
     "name": "stdout",
     "text": "(64, 668, 1)\n(64, 668, 1)\n"
    }
   ],
   "source": [
    "\n",
    "\n",
    "## Define model (cnn seq2seq)\n",
    "\n",
    "#Hyperparams            (from https://www.tensorflow.org/addons/tutorials/networks_seq2seq_nmt)\n",
    "BATCH_SIZE = 64\n",
    "BUFFER_SIZE = 16 #len(X_train)\n",
    "steps_per_epoch = BUFFER_SIZE//BATCH_SIZE\n",
    "embedding_dims = 256\n",
    "rnn_units = 1024\n",
    "dense_units = 1024\n",
    "Dtype = tf.float32\n",
    "\n",
    "# input_vocab_size = len(en_tokenizer.word_index)+1\n",
    "# output_vocab_size = len(ge_tokenizer.word_index)+ 1\n",
    "dataset = tf.data.Dataset.from_tensor_slices((X_train, Y_train)).shuffle(BUFFER_SIZE).batch(BATCH_SIZE, drop_remainder=True)\n",
    "example_X, example_Y = next(iter(dataset))\n",
    "example_X = tf.reshape(example_X,[example_X.shape[0],example_X.shape[1],1])\n",
    "example_Y = tf.reshape(example_Y,[example_Y.shape[0],example_Y.shape[1],1])\n",
    "\n",
    "# example_X.set_shape([example_X.shape[0],example_X.shape[1],1])\n",
    "print(example_X.shape)\n",
    "print(example_Y.shape)"
   ]
  },
  {
   "cell_type": "code",
   "execution_count": null,
   "metadata": {},
   "outputs": [],
   "source": [
    "def buildModel():\n",
    "    model = tf.keras.Sequential(layers=[\n",
    "        # tf.keras.layers.LSTM(64),\n",
    "        # tf.keras.layers.LSTM(16),\n",
    "        tf.keras.layers.Conv1D(668,kernel_size=1),\n",
    "        tf.keras.layers.Conv1D(128,kernel_size=1),\n",
    "        tf.keras.layers.Conv1D(64,kernel_size=1),\n",
    "        tf.keras.layers.Conv1D(1,kernel_size=1),\n",
    "        tf.keras.layers.Flatten(),\n",
    "        # tf.keras.layers.Conv1D(64,kernel_size=1), #input_shape=(64,668)\n",
    "        # tf.keras.layers.MaxPool1D(),\n",
    "        # tf.keras.layers.Conv1D(16,kernel_size=1),\n",
    "        # tf.keras.layers.Dense(16),\n",
    "        # # # tf.keras.layers.MaxPool1D(),\n",
    "        # #\n",
    "        tf.keras.layers.Dense(16),\n",
    "        tf.keras.layers.Dense(128),\n",
    "        tf.keras.layers.Dense(668),\n",
    "\n",
    "        # tf.keras.layers.Conv1DTranspose(1,kernel_size=1),\n",
    "        # tf.keras.layers.Conv1DTranspose(668,kernel_size=1)\n",
    "\n",
    "        ])\n",
    "    return model\n"
   ]
  },
  {
   "cell_type": "code",
   "execution_count": 164,
   "metadata": {},
   "outputs": [],
   "source": [
    "def buildModel2():\n",
    "    model = tf.keras.Sequential(layers=[\n",
    "        # tf.keras.layers.LSTM(64),\n",
    "        # tf.keras.layers.LSTM(16),\n",
    "        # tf.keras.layers.Conv1D(668,kernel_size=1),\n",
    "        # tf.keras.layers.Conv1D(128,kernel_size=1),\n",
    "        # tf.keras.layers.Conv1D(64,kernel_size=1),\n",
    "        # tf.keras.layers.Conv1D(1,kernel_size=1),\n",
    "        tf.keras.layers.Flatten(),\n",
    "        # tf.keras.layers.Conv1D(64,kernel_size=1), #input_shape=(64,668)\n",
    "        # tf.keras.layers.MaxPool1D(),\n",
    "        # tf.keras.layers.Conv1D(16,kernel_size=1),\n",
    "        # tf.keras.layers.Dense(16),\n",
    "        # # # tf.keras.layers.MaxPool1D(),\n",
    "        # #\n",
    "        tf.keras.layers.Dense(668),\n",
    "        tf.keras.layers.Dense(668),\n",
    "        tf.keras.layers.Dense(668),\n",
    "        tf.keras.layers.Dense(668),\n",
    "        tf.keras.layers.Dense(668),\n",
    "        tf.keras.layers.Dense(668),\n",
    "        # tf.keras.layers.Conv1DTranspose(1,kernel_size=1),\n",
    "        # tf.keras.layers.Conv1DTranspose(668,kernel_size=1)\n",
    "\n",
    "        ])\n",
    "    return model\n"
   ]
  },
  {
   "cell_type": "code",
   "execution_count": 169,
   "metadata": {
    "tags": [
     "outputPrepend"
    ]
   },
   "outputs": [
    {
     "output_type": "stream",
     "name": "stdout",
     "text": "74.0000\nEpoch 385/600\n1/1 [==============================] - 0s 2ms/step - loss: 4914283.0000\nEpoch 386/600\n1/1 [==============================] - 0s 3ms/step - loss: 6952618.0000\nEpoch 387/600\n1/1 [==============================] - 0s 998us/step - loss: 6873873.5000\nEpoch 388/600\n1/1 [==============================] - 0s 4ms/step - loss: 6935094.0000\nEpoch 389/600\n1/1 [==============================] - 0s 2ms/step - loss: 5040227.0000\nEpoch 390/600\n1/1 [==============================] - 0s 2ms/step - loss: 7017178.0000\nEpoch 391/600\n1/1 [==============================] - 0s 2ms/step - loss: 7064107.0000\nEpoch 392/600\n1/1 [==============================] - 0s 2ms/step - loss: 7085613.0000\nEpoch 393/600\n1/1 [==============================] - 0s 2ms/step - loss: 7124789.5000\nEpoch 394/600\n1/1 [==============================] - 0s 3ms/step - loss: 6935690.5000\nEpoch 395/600\n1/1 [==============================] - 0s 3ms/step - loss: 5113327.0000\nEpoch 396/600\n1/1 [==============================] - 0s 2ms/step - loss: 5057511.0000\nEpoch 397/600\n1/1 [==============================] - 0s 993us/step - loss: 7132329.0000\nEpoch 398/600\n1/1 [==============================] - 0s 2ms/step - loss: 7230985.5000\nEpoch 399/600\n1/1 [==============================] - 0s 2ms/step - loss: 7317178.0000\nEpoch 400/600\n1/1 [==============================] - 0s 3ms/step - loss: 7362957.0000\nEpoch 401/600\n1/1 [==============================] - 0s 2ms/step - loss: 7389093.5000\nEpoch 402/600\n1/1 [==============================] - 0s 998us/step - loss: 7405477.5000\nEpoch 403/600\n1/1 [==============================] - 0s 2ms/step - loss: 7389532.0000\nEpoch 404/600\n1/1 [==============================] - 0s 2ms/step - loss: 7368265.5000\nEpoch 405/600\n1/1 [==============================] - 0s 2ms/step - loss: 7244078.0000\nEpoch 406/600\n1/1 [==============================] - 0s 2ms/step - loss: 7342449.0000\nEpoch 407/600\n1/1 [==============================] - 0s 1000us/step - loss: 7313514.0000\nEpoch 408/600\n1/1 [==============================] - 0s 2ms/step - loss: 7276592.0000\nEpoch 409/600\n1/1 [==============================] - 0s 2ms/step - loss: 7221762.5000\nEpoch 410/600\n1/1 [==============================] - 0s 1ms/step - loss: 7149709.0000\nEpoch 411/600\n1/1 [==============================] - 0s 978us/step - loss: 6992616.0000\nEpoch 412/600\n1/1 [==============================] - 0s 2ms/step - loss: 6302659.5000\nEpoch 413/600\n1/1 [==============================] - 0s 997us/step - loss: 5359545.0000\nEpoch 414/600\n1/1 [==============================] - 0s 2ms/step - loss: 5398812.5000\nEpoch 415/600\n1/1 [==============================] - 0s 2ms/step - loss: 5475648.0000\nEpoch 416/600\n1/1 [==============================] - 0s 1000us/step - loss: 6954324.0000\nEpoch 417/600\n1/1 [==============================] - 0s 2ms/step - loss: 7133219.0000\nEpoch 418/600\n1/1 [==============================] - 0s 2ms/step - loss: 7204918.0000\nEpoch 419/600\n1/1 [==============================] - 0s 996us/step - loss: 7236303.0000\nEpoch 420/600\n1/1 [==============================] - 0s 2ms/step - loss: 7243854.0000\nEpoch 421/600\n1/1 [==============================] - 0s 3ms/step - loss: 7233636.0000\nEpoch 422/600\n1/1 [==============================] - 0s 4ms/step - loss: 7193133.0000\nEpoch 423/600\n1/1 [==============================] - 0s 2ms/step - loss: 7148792.0000\nEpoch 424/600\n1/1 [==============================] - 0s 2ms/step - loss: 7042365.5000\nEpoch 425/600\n1/1 [==============================] - 0s 2ms/step - loss: 6975535.5000\nEpoch 426/600\n1/1 [==============================] - 0s 2ms/step - loss: 5522612.0000\nEpoch 427/600\n1/1 [==============================] - 0s 3ms/step - loss: 5495311.0000\nEpoch 428/600\n1/1 [==============================] - 0s 4ms/step - loss: 6261897.0000\nEpoch 429/600\n1/1 [==============================] - 0s 2ms/step - loss: 7063645.0000\nEpoch 430/600\n1/1 [==============================] - 0s 2ms/step - loss: 6976751.0000\nEpoch 431/600\n1/1 [==============================] - 0s 2ms/step - loss: 6974260.0000\nEpoch 432/600\n1/1 [==============================] - 0s 999us/step - loss: 5267543.5000\nEpoch 433/600\n1/1 [==============================] - 0s 2ms/step - loss: 6652416.0000\nEpoch 434/600\n1/1 [==============================] - 0s 2ms/step - loss: 6684062.0000\nEpoch 435/600\n1/1 [==============================] - 0s 2ms/step - loss: 6638956.5000\nEpoch 436/600\n1/1 [==============================] - 0s 2ms/step - loss: 5089770.0000\nEpoch 437/600\n1/1 [==============================] - 0s 998us/step - loss: 6619096.5000\nEpoch 438/600\n1/1 [==============================] - 0s 2ms/step - loss: 6624888.5000\nEpoch 439/600\n1/1 [==============================] - 0s 2ms/step - loss: 6612412.0000\nEpoch 440/600\n1/1 [==============================] - 0s 2ms/step - loss: 6449259.5000\nEpoch 441/600\n1/1 [==============================] - 0s 3ms/step - loss: 5190719.0000\nEpoch 442/600\n1/1 [==============================] - 0s 2ms/step - loss: 6818746.0000\nEpoch 443/600\n1/1 [==============================] - 0s 2ms/step - loss: 6895939.5000\nEpoch 444/600\n1/1 [==============================] - 0s 2ms/step - loss: 6795435.5000\nEpoch 445/600\n1/1 [==============================] - 0s 2ms/step - loss: 5130236.0000\nEpoch 446/600\n1/1 [==============================] - 0s 998us/step - loss: 6883186.0000\nEpoch 447/600\n1/1 [==============================] - 0s 3ms/step - loss: 6737593.5000\nEpoch 448/600\n1/1 [==============================] - 0s 2ms/step - loss: 6820580.0000\nEpoch 449/600\n1/1 [==============================] - 0s 3ms/step - loss: 5032339.0000\nEpoch 450/600\n1/1 [==============================] - 0s 2ms/step - loss: 6562665.0000\nEpoch 451/600\n1/1 [==============================] - 0s 3ms/step - loss: 6726047.5000\nEpoch 452/600\n1/1 [==============================] - 0s 3ms/step - loss: 6637995.5000\nEpoch 453/600\n1/1 [==============================] - 0s 999us/step - loss: 5641335.5000\nEpoch 454/600\n1/1 [==============================] - 0s 3ms/step - loss: 5483305.5000\nEpoch 455/600\n1/1 [==============================] - 0s 3ms/step - loss: 6719943.0000\nEpoch 456/600\n1/1 [==============================] - 0s 2ms/step - loss: 6714579.0000\nEpoch 457/600\n1/1 [==============================] - 0s 3ms/step - loss: 6749225.5000\nEpoch 458/600\n1/1 [==============================] - 0s 3ms/step - loss: 5369474.0000\nEpoch 459/600\n1/1 [==============================] - 0s 2ms/step - loss: 4911308.0000\nEpoch 460/600\n1/1 [==============================] - 0s 3ms/step - loss: 6749097.0000\nEpoch 461/600\n1/1 [==============================] - 0s 2ms/step - loss: 6728370.5000\nEpoch 462/600\n1/1 [==============================] - 0s 3ms/step - loss: 6720174.5000\nEpoch 463/600\n1/1 [==============================] - 0s 2ms/step - loss: 5282206.0000\nEpoch 464/600\n1/1 [==============================] - 0s 2ms/step - loss: 4914404.0000\nEpoch 465/600\n1/1 [==============================] - 0s 2ms/step - loss: 6714070.0000\nEpoch 466/600\n1/1 [==============================] - 0s 3ms/step - loss: 6673777.5000\nEpoch 467/600\n1/1 [==============================] - 0s 2ms/step - loss: 5003657.5000\nEpoch 468/600\n1/1 [==============================] - 0s 2ms/step - loss: 6696195.0000\nEpoch 469/600\n1/1 [==============================] - 0s 2ms/step - loss: 6683470.0000\nEpoch 470/600\n1/1 [==============================] - 0s 2ms/step - loss: 4966122.5000\nEpoch 471/600\n1/1 [==============================] - 0s 2ms/step - loss: 6709275.0000\nEpoch 472/600\n1/1 [==============================] - 0s 3ms/step - loss: 6708058.5000\nEpoch 473/600\n1/1 [==============================] - 0s 2ms/step - loss: 4912573.0000\nEpoch 474/600\n1/1 [==============================] - 0s 3ms/step - loss: 6886306.5000\nEpoch 475/600\n1/1 [==============================] - 0s 3ms/step - loss: 6723855.0000\nEpoch 476/600\n1/1 [==============================] - 0s 2ms/step - loss: 6743441.0000\nEpoch 477/600\n1/1 [==============================] - 0s 3ms/step - loss: 6706197.5000\nEpoch 478/600\n1/1 [==============================] - 0s 997us/step - loss: 4887642.0000\nEpoch 479/600\n1/1 [==============================] - 0s 2ms/step - loss: 6686785.0000\nEpoch 480/600\n1/1 [==============================] - 0s 3ms/step - loss: 6614709.0000\nEpoch 481/600\n1/1 [==============================] - 0s 2ms/step - loss: 6614025.0000\nEpoch 482/600\n1/1 [==============================] - 0s 3ms/step - loss: 6576471.5000\nEpoch 483/600\n1/1 [==============================] - 0s 2ms/step - loss: 5177354.0000\nEpoch 484/600\n1/1 [==============================] - 0s 1ms/step - loss: 4887991.0000\nEpoch 485/600\n1/1 [==============================] - 0s 3ms/step - loss: 6735661.0000\nEpoch 486/600\n1/1 [==============================] - 0s 994us/step - loss: 6723005.0000\nEpoch 487/600\n1/1 [==============================] - 0s 2ms/step - loss: 6751384.0000\nEpoch 488/600\n1/1 [==============================] - 0s 1000us/step - loss: 5041804.5000\nEpoch 489/600\n1/1 [==============================] - 0s 2ms/step - loss: 5040258.0000\nEpoch 490/600\n1/1 [==============================] - 0s 995us/step - loss: 6579633.5000\nEpoch 491/600\n1/1 [==============================] - 0s 2ms/step - loss: 6704850.0000\nEpoch 492/600\n1/1 [==============================] - 0s 3ms/step - loss: 6708687.0000\nEpoch 493/600\n1/1 [==============================] - 0s 2ms/step - loss: 6603178.0000\nEpoch 494/600\n1/1 [==============================] - 0s 3ms/step - loss: 6381256.5000\nEpoch 495/600\n1/1 [==============================] - 0s 2ms/step - loss: 5626110.0000\nEpoch 496/600\n1/1 [==============================] - 0s 2ms/step - loss: 5042482.0000\nEpoch 497/600\n1/1 [==============================] - 0s 997us/step - loss: 6304836.0000\nEpoch 498/600\n1/1 [==============================] - 0s 2ms/step - loss: 6704790.5000\nEpoch 499/600\n1/1 [==============================] - 0s 3ms/step - loss: 6709463.5000\nEpoch 500/600\n1/1 [==============================] - 0s 856us/step - loss: 6714766.0000\nEpoch 501/600\n1/1 [==============================] - 0s 1ms/step - loss: 5863395.0000\nEpoch 502/600\n1/1 [==============================] - 0s 3ms/step - loss: 5039489.0000\nEpoch 503/600\n1/1 [==============================] - 0s 993us/step - loss: 6675123.0000\nEpoch 504/600\n1/1 [==============================] - 0s 935us/step - loss: 6704407.0000\nEpoch 505/600\n1/1 [==============================] - 0s 997us/step - loss: 6711770.0000\nEpoch 506/600\n1/1 [==============================] - 0s 2ms/step - loss: 6705527.0000\nEpoch 507/600\n1/1 [==============================] - 0s 1ms/step - loss: 5887184.5000\nEpoch 508/600\n1/1 [==============================] - 0s 998us/step - loss: 4893704.0000\nEpoch 509/600\n1/1 [==============================] - 0s 994us/step - loss: 6711222.0000\nEpoch 510/600\n1/1 [==============================] - 0s 2ms/step - loss: 6676774.0000\nEpoch 511/600\n1/1 [==============================] - 0s 1ms/step - loss: 5225146.0000\nEpoch 512/600\n1/1 [==============================] - 0s 0s/step - loss: 5153501.0000\nEpoch 513/600\n1/1 [==============================] - 0s 1ms/step - loss: 6729445.0000\nEpoch 514/600\n1/1 [==============================] - 0s 2ms/step - loss: 6824111.5000\nEpoch 515/600\n1/1 [==============================] - 0s 2ms/step - loss: 6732497.0000\nEpoch 516/600\n1/1 [==============================] - 0s 2ms/step - loss: 4990392.0000\nEpoch 517/600\n1/1 [==============================] - 0s 991us/step - loss: 6732558.0000\nEpoch 518/600\n1/1 [==============================] - 0s 2ms/step - loss: 6737522.0000\nEpoch 519/600\n1/1 [==============================] - 0s 2ms/step - loss: 6675256.0000\nEpoch 520/600\n1/1 [==============================] - 0s 2ms/step - loss: 5016184.5000\nEpoch 521/600\n1/1 [==============================] - 0s 3ms/step - loss: 6779166.5000\nEpoch 522/600\n1/1 [==============================] - 0s 1ms/step - loss: 6885491.0000\nEpoch 523/600\n1/1 [==============================] - 0s 955us/step - loss: 6814459.0000\nEpoch 524/600\n1/1 [==============================] - 0s 3ms/step - loss: 6435386.0000\nEpoch 525/600\n1/1 [==============================] - 0s 4ms/step - loss: 5243203.0000\nEpoch 526/600\n1/1 [==============================] - 0s 994us/step - loss: 4934922.0000\nEpoch 527/600\n1/1 [==============================] - 0s 2ms/step - loss: 6976412.5000\nEpoch 528/600\n1/1 [==============================] - 0s 3ms/step - loss: 7157858.0000\nEpoch 529/600\n1/1 [==============================] - 0s 998us/step - loss: 7242659.0000\nEpoch 530/600\n1/1 [==============================] - 0s 3ms/step - loss: 7291359.0000\nEpoch 531/600\n1/1 [==============================] - 0s 4ms/step - loss: 7320597.0000\nEpoch 532/600\n1/1 [==============================] - 0s 2ms/step - loss: 7337177.0000\nEpoch 533/600\n1/1 [==============================] - 0s 906us/step - loss: 7344422.0000\nEpoch 534/600\n1/1 [==============================] - 0s 2ms/step - loss: 7344046.0000\nEpoch 535/600\n1/1 [==============================] - 0s 998us/step - loss: 7336828.0000\nEpoch 536/600\n1/1 [==============================] - 0s 1ms/step - loss: 7322837.0000\nEpoch 537/600\n1/1 [==============================] - 0s 2ms/step - loss: 7301332.5000\nEpoch 538/600\n1/1 [==============================] - 0s 2ms/step - loss: 7270359.0000\nEpoch 539/600\n1/1 [==============================] - 0s 2ms/step - loss: 7224538.5000\nEpoch 540/600\n1/1 [==============================] - 0s 2ms/step - loss: 7228969.0000\nEpoch 541/600\n1/1 [==============================] - 0s 3ms/step - loss: 7081322.0000\nEpoch 542/600\n1/1 [==============================] - 0s 2ms/step - loss: 6841766.0000\nEpoch 543/600\n1/1 [==============================] - 0s 2ms/step - loss: 4942454.5000\nEpoch 544/600\n1/1 [==============================] - 0s 2ms/step - loss: 5241819.0000\nEpoch 545/600\n1/1 [==============================] - 0s 2ms/step - loss: 5065201.0000\nEpoch 546/600\n1/1 [==============================] - 0s 926us/step - loss: 6968192.0000\nEpoch 547/600\n1/1 [==============================] - 0s 2ms/step - loss: 7149994.5000\nEpoch 548/600\n1/1 [==============================] - 0s 2ms/step - loss: 7144635.0000\nEpoch 549/600\n1/1 [==============================] - 0s 2ms/step - loss: 7288540.0000\nEpoch 550/600\n1/1 [==============================] - 0s 2ms/step - loss: 7323049.0000\nEpoch 551/600\n1/1 [==============================] - 0s 2ms/step - loss: 7294648.0000\nEpoch 552/600\n1/1 [==============================] - 0s 2ms/step - loss: 7352986.0000\nEpoch 553/600\n1/1 [==============================] - 0s 2ms/step - loss: 7354963.0000\nEpoch 554/600\n1/1 [==============================] - 0s 2ms/step - loss: 7350873.5000\nEpoch 555/600\n1/1 [==============================] - 0s 2ms/step - loss: 7339693.0000\nEpoch 556/600\n1/1 [==============================] - 0s 2ms/step - loss: 7319646.0000\nEpoch 557/600\n1/1 [==============================] - 0s 3ms/step - loss: 7177021.0000\nEpoch 558/600\n1/1 [==============================] - 0s 2ms/step - loss: 7273738.0000\nEpoch 559/600\n1/1 [==============================] - 0s 995us/step - loss: 7234557.0000\nEpoch 560/600\n1/1 [==============================] - 0s 2ms/step - loss: 7206733.5000\nEpoch 561/600\n1/1 [==============================] - 0s 2ms/step - loss: 7044276.5000\nEpoch 562/600\n1/1 [==============================] - 0s 2ms/step - loss: 6831159.5000\nEpoch 563/600\n1/1 [==============================] - 0s 2ms/step - loss: 5624037.0000\nEpoch 564/600\n1/1 [==============================] - 0s 2ms/step - loss: 5286471.5000\nEpoch 565/600\n1/1 [==============================] - 0s 994us/step - loss: 5939905.0000\nEpoch 566/600\n1/1 [==============================] - 0s 957us/step - loss: 6658709.0000\nEpoch 567/600\n1/1 [==============================] - 0s 2ms/step - loss: 6930949.0000\nEpoch 568/600\n1/1 [==============================] - 0s 2ms/step - loss: 6620365.0000\nEpoch 569/600\n1/1 [==============================] - 0s 3ms/step - loss: 5748763.0000\nEpoch 570/600\n1/1 [==============================] - 0s 2ms/step - loss: 5163741.5000\nEpoch 571/600\n1/1 [==============================] - 0s 996us/step - loss: 6527827.0000\nEpoch 572/600\n1/1 [==============================] - 0s 2ms/step - loss: 6852815.5000\nEpoch 573/600\n1/1 [==============================] - 0s 998us/step - loss: 6770234.0000\nEpoch 574/600\n1/1 [==============================] - 0s 2ms/step - loss: 4896468.5000\nEpoch 575/600\n1/1 [==============================] - 0s 2ms/step - loss: 4908320.0000\nEpoch 576/600\n1/1 [==============================] - 0s 4ms/step - loss: 6863440.0000\nEpoch 577/600\n1/1 [==============================] - 0s 2ms/step - loss: 6999270.0000\nEpoch 578/600\n1/1 [==============================] - 0s 3ms/step - loss: 7020090.0000\nEpoch 579/600\n1/1 [==============================] - 0s 3ms/step - loss: 6967313.5000\nEpoch 580/600\n1/1 [==============================] - 0s 3ms/step - loss: 6769868.0000\nEpoch 581/600\n1/1 [==============================] - 0s 2ms/step - loss: 5123353.0000\nEpoch 582/600\n1/1 [==============================] - 0s 3ms/step - loss: 5109514.0000\nEpoch 583/600\n1/1 [==============================] - 0s 4ms/step - loss: 6793880.0000\nEpoch 584/600\n1/1 [==============================] - 0s 4ms/step - loss: 6948725.5000\nEpoch 585/600\n1/1 [==============================] - 0s 5ms/step - loss: 6952418.5000\nEpoch 586/600\n1/1 [==============================] - 0s 3ms/step - loss: 6830078.0000\nEpoch 587/600\n1/1 [==============================] - 0s 3ms/step - loss: 5488654.0000\nEpoch 588/600\n1/1 [==============================] - 0s 3ms/step - loss: 4996991.5000\nEpoch 589/600\n1/1 [==============================] - 0s 2ms/step - loss: 6586419.0000\nEpoch 590/600\n1/1 [==============================] - 0s 4ms/step - loss: 6822479.0000\nEpoch 591/600\n1/1 [==============================] - 0s 4ms/step - loss: 6742645.5000\nEpoch 592/600\n1/1 [==============================] - 0s 4ms/step - loss: 5232800.0000\nEpoch 593/600\n1/1 [==============================] - 0s 3ms/step - loss: 4895165.0000\nEpoch 594/600\n1/1 [==============================] - 0s 2ms/step - loss: 6700391.5000\nEpoch 595/600\n1/1 [==============================] - 0s 3ms/step - loss: 6769096.0000\nEpoch 596/600\n1/1 [==============================] - 0s 3ms/step - loss: 6656820.0000\nEpoch 597/600\n1/1 [==============================] - 0s 2ms/step - loss: 4904552.5000\nEpoch 598/600\n1/1 [==============================] - 0s 3ms/step - loss: 6773848.5000\nEpoch 599/600\n1/1 [==============================] - 0s 3ms/step - loss: 6872605.0000\nEpoch 600/600\n1/1 [==============================] - 0s 4ms/step - loss: 6777017.0000\nModel: \"sequential_74\"\n_________________________________________________________________\nLayer (type)                 Output Shape              Param #   \n=================================================================\nflatten_39 (Flatten)         (64, 668)                 0         \n_________________________________________________________________\ndense_147 (Dense)            (64, 668)                 446892    \n_________________________________________________________________\ndense_148 (Dense)            (64, 668)                 446892    \n_________________________________________________________________\ndense_149 (Dense)            (64, 668)                 446892    \n_________________________________________________________________\ndense_150 (Dense)            (64, 668)                 446892    \n_________________________________________________________________\ndense_151 (Dense)            (64, 668)                 446892    \n_________________________________________________________________\ndense_152 (Dense)            (64, 668)                 446892    \n=================================================================\nTotal params: 2,681,352\nTrainable params: 2,681,352\nNon-trainable params: 0\n_________________________________________________________________\nINFO:tensorflow:Assets written to: ./models/dense\\assets\n"
    }
   ],
   "source": [
    "start_time = time.time()\n",
    "densemodel = buildModel2()\n",
    "print(\"Time required to create model --- %s seconds ---\" % (time.time() - start_time))\n",
    "\n",
    "# seq2seq.summary()\n",
    "\n",
    "## Train model and print results\n",
    "densemodel.compile(optimizer= 'adam',loss=\"CategoricalCrossentropy\")\n",
    "# seq2seq.build(input_shape=(668,64))\n",
    "# seq2seq.summary()\n",
    "densemodel.fit(x=example_X,y=example_Y,batch_size=BATCH_SIZE,epochs=600)\n",
    "densemodel.summary()\n",
    "densemodel.save(filepath=\"./models/dense\")"
   ]
  },
  {
   "cell_type": "code",
   "execution_count": 168,
   "metadata": {
    "tags": []
   },
   "outputs": [
    {
     "output_type": "stream",
     "name": "stdout",
     "text": "Time required to create model --- 0.011016845703125 seconds ---\nEpoch 1/100\n1/1 [==============================] - 0s 2ms/step - loss: 6927007.0000\nEpoch 2/100\n1/1 [==============================] - 0s 1ms/step - loss: 6951572.0000\nEpoch 3/100\n1/1 [==============================] - 0s 998us/step - loss: 6860859.5000\nEpoch 4/100\n1/1 [==============================] - 0s 978us/step - loss: 6795144.0000\nEpoch 5/100\n1/1 [==============================] - 0s 999us/step - loss: 6736784.0000\nEpoch 6/100\n1/1 [==============================] - 0s 3ms/step - loss: 6977242.0000\nEpoch 7/100\n1/1 [==============================] - 0s 1000us/step - loss: 7195775.0000\nEpoch 8/100\n1/1 [==============================] - 0s 3ms/step - loss: 7072202.0000\nEpoch 9/100\n1/1 [==============================] - 0s 2ms/step - loss: 6947111.0000\nEpoch 10/100\n1/1 [==============================] - 0s 2ms/step - loss: 6892324.5000\nEpoch 11/100\n1/1 [==============================] - 0s 3ms/step - loss: 6825990.5000\nEpoch 12/100\n1/1 [==============================] - 0s 3ms/step - loss: 7269313.5000\nEpoch 13/100\n1/1 [==============================] - 0s 2ms/step - loss: 7266425.0000\nEpoch 14/100\n1/1 [==============================] - 0s 2ms/step - loss: 7179172.0000\nEpoch 15/100\n1/1 [==============================] - 0s 1ms/step - loss: 7531249.5000\nEpoch 16/100\n1/1 [==============================] - 0s 3ms/step - loss: 7474217.0000\nEpoch 17/100\n1/1 [==============================] - 0s 2ms/step - loss: 7017799.5000\nEpoch 18/100\n1/1 [==============================] - 0s 3ms/step - loss: 7337575.0000\nEpoch 19/100\n1/1 [==============================] - 0s 2ms/step - loss: 7465165.0000\nEpoch 20/100\n1/1 [==============================] - 0s 2ms/step - loss: 7356663.0000\nEpoch 21/100\n1/1 [==============================] - 0s 2ms/step - loss: 7172269.0000\nEpoch 22/100\n1/1 [==============================] - 0s 1ms/step - loss: 7168350.0000\nEpoch 23/100\n1/1 [==============================] - 0s 999us/step - loss: 7244868.0000\nEpoch 24/100\n1/1 [==============================] - 0s 2ms/step - loss: 7287992.0000\nEpoch 25/100\n1/1 [==============================] - 0s 2ms/step - loss: 7160736.0000\nEpoch 26/100\n1/1 [==============================] - 0s 2ms/step - loss: 7121236.0000\nEpoch 27/100\n1/1 [==============================] - 0s 2ms/step - loss: 7219565.5000\nEpoch 28/100\n1/1 [==============================] - 0s 997us/step - loss: 7385135.0000\nEpoch 29/100\n1/1 [==============================] - 0s 2ms/step - loss: 7305482.0000\nEpoch 30/100\n1/1 [==============================] - 0s 999us/step - loss: 7376602.0000\nEpoch 31/100\n1/1 [==============================] - 0s 4ms/step - loss: 7444825.0000\nEpoch 32/100\n1/1 [==============================] - 0s 3ms/step - loss: 7452512.0000\nEpoch 33/100\n1/1 [==============================] - 0s 999us/step - loss: 7585367.0000\nEpoch 34/100\n1/1 [==============================] - 0s 2ms/step - loss: 7583273.5000\nEpoch 35/100\n1/1 [==============================] - 0s 3ms/step - loss: 7628936.0000\nEpoch 36/100\n1/1 [==============================] - 0s 622us/step - loss: 7430509.0000\nEpoch 37/100\n1/1 [==============================] - 0s 2ms/step - loss: 7457118.0000\nEpoch 38/100\n1/1 [==============================] - 0s 2ms/step - loss: 7683974.0000\nEpoch 39/100\n1/1 [==============================] - 0s 2ms/step - loss: 7671983.5000\nEpoch 40/100\n1/1 [==============================] - 0s 993us/step - loss: 7511346.0000\nEpoch 41/100\n1/1 [==============================] - 0s 2ms/step - loss: 7635746.0000\nEpoch 42/100\n1/1 [==============================] - 0s 2ms/step - loss: 7599189.0000\nEpoch 43/100\n1/1 [==============================] - 0s 2ms/step - loss: 7567158.5000\nEpoch 44/100\n1/1 [==============================] - 0s 2ms/step - loss: 7341420.5000\nEpoch 45/100\n1/1 [==============================] - 0s 2ms/step - loss: 7426597.5000\nEpoch 46/100\n1/1 [==============================] - 0s 2ms/step - loss: 7467087.5000\nEpoch 47/100\n1/1 [==============================] - 0s 999us/step - loss: 7370286.5000\nEpoch 48/100\n1/1 [==============================] - 0s 2ms/step - loss: 7133608.0000\nEpoch 49/100\n1/1 [==============================] - 0s 4ms/step - loss: 7067815.5000\nEpoch 50/100\n1/1 [==============================] - 0s 2ms/step - loss: 7288410.0000\nEpoch 51/100\n1/1 [==============================] - 0s 1ms/step - loss: 7152396.0000\nEpoch 52/100\n1/1 [==============================] - 0s 2ms/step - loss: 7481566.0000\nEpoch 53/100\n1/1 [==============================] - 0s 3ms/step - loss: 7589340.0000\nEpoch 54/100\n1/1 [==============================] - 0s 2ms/step - loss: 7527469.0000\nEpoch 55/100\n1/1 [==============================] - 0s 2ms/step - loss: 7557248.5000\nEpoch 56/100\n1/1 [==============================] - 0s 2ms/step - loss: 7505082.0000\nEpoch 57/100\n1/1 [==============================] - 0s 1ms/step - loss: 7355928.0000\nEpoch 58/100\n1/1 [==============================] - 0s 1ms/step - loss: 7208839.5000\nEpoch 59/100\n1/1 [==============================] - 0s 2ms/step - loss: 7091259.0000\nEpoch 60/100\n1/1 [==============================] - 0s 2ms/step - loss: 7077086.0000\nEpoch 61/100\n1/1 [==============================] - 0s 1ms/step - loss: 7416114.0000\nEpoch 62/100\n1/1 [==============================] - 0s 1ms/step - loss: 7473978.5000\nEpoch 63/100\n1/1 [==============================] - 0s 999us/step - loss: 7324706.0000\nEpoch 64/100\n1/1 [==============================] - 0s 2ms/step - loss: 7188309.5000\nEpoch 65/100\n1/1 [==============================] - 0s 2ms/step - loss: 6948217.0000\nEpoch 66/100\n1/1 [==============================] - 0s 2ms/step - loss: 6958304.5000\nEpoch 67/100\n1/1 [==============================] - 0s 2ms/step - loss: 6824132.0000\nEpoch 68/100\n1/1 [==============================] - 0s 2ms/step - loss: 6752804.0000\nEpoch 69/100\n1/1 [==============================] - 0s 1000us/step - loss: 6476979.0000\nEpoch 70/100\n1/1 [==============================] - 0s 2ms/step - loss: 6472514.5000\nEpoch 71/100\n1/1 [==============================] - 0s 2ms/step - loss: 6772074.0000\nEpoch 72/100\n1/1 [==============================] - 0s 999us/step - loss: 6741983.0000\nEpoch 73/100\n1/1 [==============================] - 0s 2ms/step - loss: 6747898.0000\nEpoch 74/100\n1/1 [==============================] - 0s 1000us/step - loss: 7103100.5000\nEpoch 75/100\n1/1 [==============================] - 0s 1ms/step - loss: 7069790.0000\nEpoch 76/100\n1/1 [==============================] - 0s 2ms/step - loss: 7101901.5000\nEpoch 77/100\n1/1 [==============================] - 0s 2ms/step - loss: 7049359.0000\nEpoch 78/100\n1/1 [==============================] - 0s 3ms/step - loss: 6984203.0000\nEpoch 79/100\n1/1 [==============================] - 0s 1ms/step - loss: 6995083.5000\nEpoch 80/100\n1/1 [==============================] - 0s 2ms/step - loss: 6912319.0000\nEpoch 81/100\n1/1 [==============================] - 0s 2ms/step - loss: 7016120.0000\nEpoch 82/100\n1/1 [==============================] - 0s 4ms/step - loss: 7163445.0000\nEpoch 83/100\n1/1 [==============================] - 0s 2ms/step - loss: 6800515.0000\nEpoch 84/100\n1/1 [==============================] - 0s 2ms/step - loss: 7243706.5000\nEpoch 85/100\n1/1 [==============================] - 0s 2ms/step - loss: 7215876.0000\nEpoch 86/100\n1/1 [==============================] - 0s 999us/step - loss: 6695405.5000\nEpoch 87/100\n1/1 [==============================] - 0s 2ms/step - loss: 6401419.5000\nEpoch 88/100\n1/1 [==============================] - 0s 2ms/step - loss: 6340685.0000\nEpoch 89/100\n1/1 [==============================] - 0s 999us/step - loss: 6779630.5000\nEpoch 90/100\n1/1 [==============================] - 0s 2ms/step - loss: 6821518.0000\nEpoch 91/100\n1/1 [==============================] - 0s 2ms/step - loss: 6651701.0000\nEpoch 92/100\n1/1 [==============================] - 0s 1ms/step - loss: 6774882.0000\nEpoch 93/100\n1/1 [==============================] - 0s 1000us/step - loss: 6912734.0000\nEpoch 94/100\n1/1 [==============================] - 0s 3ms/step - loss: 6656829.5000\nEpoch 95/100\n1/1 [==============================] - 0s 988us/step - loss: 6070816.0000\nEpoch 96/100\n1/1 [==============================] - 0s 999us/step - loss: 6231397.0000\nEpoch 97/100\n1/1 [==============================] - 0s 1ms/step - loss: 6886116.0000\nEpoch 98/100\n1/1 [==============================] - 0s 3ms/step - loss: 6995264.0000\nEpoch 99/100\n1/1 [==============================] - 0s 2ms/step - loss: 6906693.5000\nEpoch 100/100\n1/1 [==============================] - 0s 998us/step - loss: 6987846.5000\nModel: \"sequential_73\"\n_________________________________________________________________\nLayer (type)                 Output Shape              Param #   \n=================================================================\nconv1d_173 (Conv1D)          (64, 668, 668)            1336      \n_________________________________________________________________\nconv1d_174 (Conv1D)          (64, 668, 128)            85632     \n_________________________________________________________________\nconv1d_175 (Conv1D)          (64, 668, 64)             8256      \n_________________________________________________________________\nconv1d_176 (Conv1D)          (64, 668, 1)              65        \n_________________________________________________________________\nflatten_38 (Flatten)         (64, 668)                 0         \n_________________________________________________________________\ndense_144 (Dense)            (64, 16)                  10704     \n_________________________________________________________________\ndense_145 (Dense)            (64, 128)                 2176      \n_________________________________________________________________\ndense_146 (Dense)            (64, 668)                 86172     \n=================================================================\nTotal params: 194,341\nTrainable params: 194,341\nNon-trainable params: 0\n_________________________________________________________________\nINFO:tensorflow:Assets written to: ./models/seq2seq\\assets\n"
    }
   ],
   "source": [
    "start_time = time.time()\n",
    "seq2seq = buildModel()\n",
    "print(\"Time required to create model --- %s seconds ---\" % (time.time() - start_time))\n",
    "\n",
    "# seq2seq.summary()\n",
    "\n",
    "## Train model and print results\n",
    "seq2seq.compile(optimizer= 'adam',loss=\"CategoricalCrossentropy\")\n",
    "# seq2seq.build(input_shape=(668,64))\n",
    "# seq2seq.summary()\n",
    "seq2seq.fit(x=example_X,y=example_Y,batch_size=BATCH_SIZE,epochs=100)\n",
    "seq2seq.summary()\n",
    "seq2seq.save(filepath=\"./models/seq2seq\")\n"
   ]
  },
  {
   "cell_type": "code",
   "execution_count": null,
   "metadata": {},
   "outputs": [],
   "source": []
  }
 ]
}