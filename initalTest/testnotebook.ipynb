{
 "metadata": {
  "language_info": {
   "codemirror_mode": {
    "name": "ipython",
    "version": 3
   },
   "file_extension": ".py",
   "mimetype": "text/x-python",
   "name": "python",
   "nbconvert_exporter": "python",
   "pygments_lexer": "ipython3",
   "version": "3.8.5-final"
  },
  "orig_nbformat": 2,
  "kernelspec": {
   "name": "python38564bit923bdb9dbde4441fa27ccb5ba6d2aec9",
   "display_name": "Python 3.8.5 64-bit"
  }
 },
 "nbformat": 4,
 "nbformat_minor": 2,
 "cells": [
  {
   "cell_type": "code",
   "execution_count": 15,
   "metadata": {
    "tags": []
   },
   "outputs": [
    {
     "output_type": "stream",
     "name": "stdout",
     "text": "Requirement already satisfied: nltk in c:\\users\\justi\\appdata\\local\\programs\\python\\python38\\lib\\site-packages (3.5)\nRequirement already satisfied: sklearn in c:\\users\\justi\\appdata\\local\\programs\\python\\python38\\lib\\site-packages (0.0)\nRequirement already satisfied: joblib in c:\\users\\justi\\appdata\\local\\programs\\python\\python38\\lib\\site-packages (from nltk) (0.16.0)\nRequirement already satisfied: regex in c:\\users\\justi\\appdata\\local\\programs\\python\\python38\\lib\\site-packages (from nltk) (2020.7.14)\nRequirement already satisfied: tqdm in c:\\users\\justi\\appdata\\local\\programs\\python\\python38\\lib\\site-packages (from nltk) (4.48.2)\nRequirement already satisfied: click in c:\\users\\justi\\appdata\\local\\programs\\python\\python38\\lib\\site-packages (from nltk) (7.1.2)\nRequirement already satisfied: scikit-learn in c:\\users\\justi\\appdata\\local\\programs\\python\\python38\\lib\\site-packages (from sklearn) (0.23.2)\nRequirement already satisfied: scipy>=0.19.1 in c:\\users\\justi\\appdata\\local\\programs\\python\\python38\\lib\\site-packages (from scikit-learn->sklearn) (1.4.1)\nRequirement already satisfied: numpy>=1.13.3 in c:\\users\\justi\\appdata\\local\\programs\\python\\python38\\lib\\site-packages (from scikit-learn->sklearn) (1.18.5)\nRequirement already satisfied: threadpoolctl>=2.0.0 in c:\\users\\justi\\appdata\\local\\programs\\python\\python38\\lib\\site-packages (from scikit-learn->sklearn) (2.1.0)\n"
    }
   ],
   "source": [
    "!python -m pip install nltk sklearn"
   ]
  },
  {
   "cell_type": "code",
   "execution_count": 1,
   "metadata": {},
   "outputs": [],
   "source": [
    "# Import all requirments\n",
    "import tensorflow as tf\n",
    "# import tensorflow_datasets as tfds\n",
    "import time\n",
    "import  os\n",
    "import io\n",
    "from nltk.translate.bleu_score import corpus_bleu\n",
    "from sklearn.model_selection import train_test_split"
   ]
  },
  {
   "cell_type": "code",
   "execution_count": 8,
   "metadata": {
    "tags": []
   },
   "outputs": [
    {
     "output_type": "stream",
     "name": "stdout",
     "text": "Time required to load data --- 0.0010013580322265625 seconds ---\n"
    }
   ],
   "source": [
    "start_time = time.time()\n",
    "## load data\n",
    "# german_data_path = os.path.join(os.path.curdir,\"./data/europarl-v7.de-en.de\")\n",
    "german_data_path= r\"C:\\Users\\justi\\Documents\\RDPTranslation\\initalTest\\data\\europarl-v7.de-en.de\"\n",
    "# english_data_path = os.path.join(os.path.curdir,\"./data/europarl-v7.de-en.en\")\n",
    "english_data_path = r\"C:\\Users\\justi\\Documents\\RDPTranslation\\initalTest\\data\\europarl-v7.de-en.en\"\n",
    "print(\"Time required to load data --- %s seconds ---\" % (time.time() - start_time))\n"
   ]
  },
  {
   "cell_type": "code",
   "execution_count": 9,
   "metadata": {
    "tags": []
   },
   "outputs": [
    {
     "output_type": "stream",
     "name": "stdout",
     "text": ".\n"
    }
   ],
   "source": [
    "path = os.path.curdir\n",
    "print(path)"
   ]
  },
  {
   "cell_type": "code",
   "execution_count": 10,
   "metadata": {
    "tags": []
   },
   "outputs": [
    {
     "output_type": "stream",
     "name": "stdout",
     "text": "Time required to create dataset --- 5.022955417633057 seconds ---\n"
    }
   ],
   "source": [
    "## Load data from file and into a dataset in memory\n",
    "start_time = time.time()\n",
    "def create_dataset(germ_path, eng_path):\n",
    "  germ_lines = io.open(germ_path, encoding='UTF-8').read().strip().split('\\n')\n",
    "  eng_lines = io.open(eng_path, encoding='UTF-8').read().strip().split('\\n')\n",
    "  return germ_lines, eng_lines\n",
    "german_data, english_data = create_dataset(german_data_path, english_data_path)\n",
    "print(\"Time required to create dataset --- %s seconds ---\" % (time.time() - start_time))\n",
    "\n"
   ]
  },
  {
   "cell_type": "code",
   "execution_count": 11,
   "metadata": {
    "tags": []
   },
   "outputs": [
    {
     "output_type": "stream",
     "name": "stdout",
     "text": "Read english tokenizer input from  ./tokenizerConfig/english_config.json\nRead german tokenizer input from  ./tokenizerConfig/german_config.json\nTime required to tokenize data --- 110.2237401008606 seconds ---\n"
    }
   ],
   "source": [
    "## Tokenize german and english sequences\n",
    "start_time = time.time()\n",
    "\n",
    "en_tokenizer = tf.keras.preprocessing.text.Tokenizer(filters='')\n",
    "## Uncomment these lines for first time running the program to configure tokenizer (helps speed up run time)\n",
    "# en_tokenizer.fit_on_texts(english_data)\n",
    "# english_config = en_tokenizer.to_json()\n",
    "\n",
    "english_config_path = os.path.join(\"./tokenizerConfig/english_config.json\")\n",
    "## Uncomment these lines for first time running the program to configure tokenizer (helps speed up run time)\n",
    "# io.open(english_config_path,'w').write(english_config)\n",
    "# print(\"Wrote english config to \", english_config_path)\n",
    "\n",
    "## Comment lines out first time runnint to avoid reloading config\n",
    "english_config = io.open(english_config_path, encoding='UTF-8').read()\n",
    "en_tokenizer =  tf.keras.preprocessing.text.tokenizer_from_json(english_config)\n",
    "print(\"Read english tokenizer input from \", english_config_path)\n",
    "\n",
    "## Tokenize english data\n",
    "data_en = en_tokenizer.texts_to_sequences(english_data)\n",
    "data_en = tf.keras.preprocessing.sequence.pad_sequences(data_en,padding='post')\n",
    "\n",
    "ge_tokenizer = tf.keras.preprocessing.text.Tokenizer(filters='')\n",
    "\n",
    "## Uncomment these lines for first time running the program to configure tokenizer (helps speed up run time)\n",
    "# ge_tokenizer.fit_on_texts(german_data)\n",
    "# german_config = ge_tokenizer.to_json()\n",
    "\n",
    "german_config_path = os.path.join(\"./tokenizerConfig/german_config.json\")\n",
    "\n",
    "## Uncomment these lines for first time running the program to configure tokenizer (helps speed up run time)\n",
    "# io.open(german_config_path,'w').write(german_config)\n",
    "# print(\"Wrote german config to \", german_config_path)\n",
    "\n",
    "## Comment lines out first time runnint to avoid reloading config\n",
    "german_config = io.open(german_config_path, encoding='UTF-8').read()\n",
    "ge_tokenizer =  tf.keras.preprocessing.text.tokenizer_from_json(german_config)\n",
    "print(\"Read german tokenizer input from \", german_config_path)\n",
    "\n",
    "## tokenize german data\n",
    "data_ge = ge_tokenizer.texts_to_sequences(german_data)\n",
    "data_ge = tf.keras.preprocessing.sequence.pad_sequences(data_ge,padding='post')\n",
    "\n",
    "print(\"Time required to tokenize data --- %s seconds ---\" % (time.time() - start_time))\n"
   ]
  },
  {
   "cell_type": "code",
   "execution_count": 13,
   "metadata": {
    "tags": []
   },
   "outputs": [
    {
     "output_type": "stream",
     "name": "stdout",
     "text": "Time required to slice data --- 96.20244264602661 seconds ---\n"
    }
   ],
   "source": [
    "\n",
    "start_time = time.time()\n",
    "## slice data with an 80/20 split\n",
    "X_train,  X_test, Y_train, Y_test = train_test_split(data_en,data_ge,test_size=0.8)\n",
    "print(\"Time required to slice data --- %s seconds ---\" % (time.time() - start_time))\n"
   ]
  },
  {
   "cell_type": "code",
   "execution_count": 17,
   "metadata": {
    "tags": []
   },
   "outputs": [
    {
     "output_type": "stream",
     "name": "stdout",
     "text": "(384041, 668, 1)\n"
    }
   ],
   "source": [
    "## Convert data to tensor and print shape of X_train (english training data)\n",
    "Dtype = tf.float32\n",
    "\n",
    "X_train = tf.convert_to_tensor(X_train,dtype=Dtype)\n",
    "X_train = tf.reshape(X_train, [X_train.shape[0], X_train.shape[1], 1])\n",
    "print(X_train.shape)\n",
    "X_test = tf.convert_to_tensor(X_test,dtype=Dtype)\n",
    "Y_train = tf.convert_to_tensor(Y_train,dtype=Dtype)\n",
    "Y_test = tf.convert_to_tensor(Y_test,dtype=Dtype)\n",
    "\n",
    "\n",
    "\n"
   ]
  },
  {
   "cell_type": "code",
   "execution_count": 18,
   "metadata": {
    "tags": []
   },
   "outputs": [
    {
     "output_type": "stream",
     "name": "stdout",
     "text": "(64, 668, 1)\n(64, 426)\n"
    }
   ],
   "source": [
    "\n",
    "\n",
    "## Define model (cnn seq2seq)\n",
    "\n",
    "#Hyperparams            (from https://www.tensorflow.org/addons/tutorials/networks_seq2seq_nmt)\n",
    "BATCH_SIZE = 64\n",
    "BUFFER_SIZE = 16 #len(X_train)\n",
    "steps_per_epoch = BUFFER_SIZE//BATCH_SIZE\n",
    "embedding_dims = 256\n",
    "rnn_units = 1024\n",
    "dense_units = 1024\n",
    "Dtype = tf.float32\n",
    "\n",
    "# input_vocab_size = len(en_tokenizer.word_index)+1\n",
    "# output_vocab_size = len(ge_tokenizer.word_index)+ 1\n",
    "dataset = tf.data.Dataset.from_tensor_slices((X_train, Y_train)).shuffle(BUFFER_SIZE).batch(BATCH_SIZE, drop_remainder=True)\n",
    "example_X, example_Y = next(iter(dataset))\n",
    "example_X = tf.reshape(example_X,[example_X.shape[0],example_X.shape[1],1])\n",
    "# example_X.set_shape([example_X.shape[0],example_X.shape[1],1])\n",
    "print(example_X.shape)\n",
    "print(example_Y.shape)"
   ]
  },
  {
   "cell_type": "code",
   "execution_count": 37,
   "metadata": {},
   "outputs": [],
   "source": [
    "def buildModel():\n",
    "    model = tf.keras.Sequential(layers=[\n",
    "        # tf.keras.layers.LSTM(64),\n",
    "        # tf.keras.layers.LSTM(64),\n",
    "        tf.keras.layers.Conv1D(1,kernel_size=1), #input_shape=(64,668)\n",
    "        # tf.keras.layers.MaxPool1D(),\n",
    "        tf.keras.layers.Conv1D(1,kernel_size=1),\n",
    "        # tf.keras.layers.Dense(16),\n",
    "        # # tf.keras.layers.MaxPool1D(),\n",
    "        #\n",
    "        # tf.keras.layers.Dense(16),\n",
    "        # tf.keras.layers.Conv1DTranspose(16,kernel_size=4),\n",
    "        # tf.keras.layers.Conv1DTranspose(64,kernel_size=16)\n",
    "\n",
    "        ])\n",
    "    return model\n"
   ]
  },
  {
   "cell_type": "code",
   "execution_count": 38,
   "metadata": {
    "tags": []
   },
   "outputs": [
    {
     "output_type": "stream",
     "name": "stdout",
     "text": "Time required to create model --- 0.009002923965454102 seconds ---\nEpoch 1/10\n1/1 [==============================] - 0s 3ms/step - loss: nan\nEpoch 2/10\n1/1 [==============================] - 0s 1ms/step - loss: nan\nEpoch 3/10\n1/1 [==============================] - 0s 998us/step - loss: nan\nEpoch 4/10\n1/1 [==============================] - 0s 0s/step - loss: nan\nEpoch 5/10\n1/1 [==============================] - 0s 999us/step - loss: nan\nEpoch 6/10\n1/1 [==============================] - 0s 2ms/step - loss: nan\nEpoch 7/10\n1/1 [==============================] - 0s 996us/step - loss: nan\nEpoch 8/10\n1/1 [==============================] - 0s 999us/step - loss: nan\nEpoch 9/10\n1/1 [==============================] - 0s 1000us/step - loss: nan\nEpoch 10/10\n1/1 [==============================] - 0s 2ms/step - loss: nan\nWARNING:tensorflow:From C:\\Users\\justi\\AppData\\Local\\Programs\\Python\\Python38\\lib\\site-packages\\tensorflow\\python\\training\\tracking\\tracking.py:111: Model.state_updates (from tensorflow.python.keras.engine.training) is deprecated and will be removed in a future version.\nInstructions for updating:\nThis property should not be used in TensorFlow 2.0, as updates are applied automatically.\nWARNING:tensorflow:From C:\\Users\\justi\\AppData\\Local\\Programs\\Python\\Python38\\lib\\site-packages\\tensorflow\\python\\training\\tracking\\tracking.py:111: Layer.updates (from tensorflow.python.keras.engine.base_layer) is deprecated and will be removed in a future version.\nInstructions for updating:\nThis property should not be used in TensorFlow 2.0, as updates are applied automatically.\nINFO:tensorflow:Assets written to: ./models/seq2seq\\assets\n"
    }
   ],
   "source": [
    "start_time = time.time()\n",
    "seq2seq = buildModel()\n",
    "print(\"Time required to create model --- %s seconds ---\" % (time.time() - start_time))\n",
    "\n",
    "# seq2seq.summary()\n",
    "\n",
    "## Train model and print results\n",
    "seq2seq.compile(optimizer= 'adam',loss=\"categorical_crossentropy\")\n",
    "seq2seq.fit(x=example_X,y=example_X,batch_size=BATCH_SIZE,epochs=10)\n",
    "seq2seq.save(filepath=\"./models/seq2seq\")\n"
   ]
  },
  {
   "cell_type": "code",
   "execution_count": null,
   "metadata": {},
   "outputs": [],
   "source": []
  },
  {
   "cell_type": "code",
   "execution_count": null,
   "metadata": {},
   "outputs": [],
   "source": []
  }
 ]
}