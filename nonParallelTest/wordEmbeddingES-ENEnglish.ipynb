{
 "metadata": {
  "language_info": {
   "codemirror_mode": {
    "name": "ipython",
    "version": 3
   },
   "file_extension": ".py",
   "mimetype": "text/x-python",
   "name": "python",
   "nbconvert_exporter": "python",
   "pygments_lexer": "ipython3",
   "version": 3
  },
  "orig_nbformat": 2
 },
 "nbformat": 4,
 "nbformat_minor": 2,
 "cells": [
  {
   "cell_type": "code",
   "execution_count": null,
   "metadata": {},
   "outputs": [],
   "source": [
    "# import librarys\n",
    "from gensim import corpora\n",
    "import logging\n",
    "from pprint import pprint  # pretty-printer\n",
    "from collections import defaultdict\n",
    "from smart_open import open  # for transparently opening remote files\n",
    "import unicodedata\n",
    "from gensim import models\n",
    "import os\n",
    "from gensim import similarities\n",
    "import tempfile\n",
    "from gensim.test.utils import common_texts\n",
    "from gensim.models import Word2Vec\n",
    "from gensim.models import KeyedVectors\n"
   ]
  }
 ]
}