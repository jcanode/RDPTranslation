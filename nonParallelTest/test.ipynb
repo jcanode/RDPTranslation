{
 "metadata": {
  "language_info": {
   "codemirror_mode": {
    "name": "ipython",
    "version": 3
   },
   "file_extension": ".py",
   "mimetype": "text/x-python",
   "name": "python",
   "nbconvert_exporter": "python",
   "pygments_lexer": "ipython3",
   "version": "3.8.7-final"
  },
  "orig_nbformat": 2,
  "kernelspec": {
   "name": "python3",
   "display_name": "Python 3.8.7 64-bit",
   "metadata": {
    "interpreter": {
     "hash": "1e16081097cce4811063518213e2655aa3055a6f1bf34aefb4174cefc8ff5a02"
    }
   }
  }
 },
 "nbformat": 4,
 "nbformat_minor": 2,
 "cells": [
  {
   "cell_type": "code",
   "execution_count": 5,
   "metadata": {},
   "outputs": [
    {
     "output_type": "stream",
     "name": "stdout",
     "text": [
      "Python 3.8.7\n"
     ]
    }
   ],
   "source": [
    "!python --version"
   ]
  },
  {
   "cell_type": "code",
   "execution_count": 22,
   "metadata": {},
   "outputs": [],
   "source": [
    "# import librarys\n",
    "from gensim import corpora\n",
    "import logging\n",
    "from pprint import pprint  # pretty-printer\n",
    "from collections import defaultdict\n",
    "from smart_open import open  # for transparently opening remote files\n",
    "import unicodedata\n",
    "from gensim import models\n",
    "import os\n",
    "from gensim import similarities\n",
    "import tempfile\n",
    "from gensim.test.utils import common_texts\n",
    "from gensim.models import Word2Vec\n",
    "from gensim.models import KeyedVectors\n"
   ]
  },
  {
   "cell_type": "code",
   "execution_count": 2,
   "metadata": {},
   "outputs": [],
   "source": [
    "tfidf_corpus = corpora.MmCorpus('./tmp/corpus.mm')\n"
   ]
  },
  {
   "cell_type": "code",
   "execution_count": 34,
   "metadata": {},
   "outputs": [
    {
     "output_type": "stream",
     "name": "stdout",
     "text": [
      "Dictionary(139167 unique tokens: ['17', '1999,', 'adjourned', 'again', 'december']...)\n"
     ]
    }
   ],
   "source": [
    "\n",
    "\n",
    "# document_path = u\"C:/Users/justi/documents/RDPTranslation/data/english-data.txt\"\n",
    "dictionary = corpora.Dictionary.load('./tmp/englishDict.dict')\n",
    "\n",
    "print(dictionary)"
   ]
  },
  {
   "cell_type": "code",
   "execution_count": 5,
   "metadata": {},
   "outputs": [],
   "source": [
    "\n",
    "# document_path = u\"C:/Users/justi/documents/RDPTranslation/data/english-data.txt\"\n",
    "dictionary = corpora.Dictionary.load('./tmp/englishDict.dict')\n",
    "\n"
   ]
  },
  {
   "cell_type": "code",
   "execution_count": 6,
   "metadata": {},
   "outputs": [],
   "source": [
    "tmp_file= \"C:/Users/justi/AppData/Local/Temp/model-8d52k3xq.lsi\""
   ]
  },
  {
   "cell_type": "code",
   "execution_count": 7,
   "metadata": {},
   "outputs": [],
   "source": [
    "loaded_lsi_model = models.LsiModel.load(tmp_file)\n"
   ]
  },
  {
   "cell_type": "code",
   "execution_count": 8,
   "metadata": {},
   "outputs": [],
   "source": [
    "model = models.LsiModel(tfidf_corpus, id2word=dictionary, num_topics=300)\n"
   ]
  },
  {
   "cell_type": "code",
   "execution_count": 9,
   "metadata": {},
   "outputs": [
    {
     "output_type": "error",
     "ename": "NameError",
     "evalue": "name 'gov_answers' is not defined",
     "traceback": [
      "\u001b[1;31m---------------------------------------------------------------------------\u001b[0m",
      "\u001b[1;31mNameError\u001b[0m                                 Traceback (most recent call last)",
      "\u001b[1;32m<ipython-input-9-4e563da59584>\u001b[0m in \u001b[0;36m<module>\u001b[1;34m\u001b[0m\n\u001b[1;32m----> 1\u001b[1;33m \u001b[0mprint\u001b[0m\u001b[1;33m(\u001b[0m\u001b[0mgov_answers\u001b[0m\u001b[1;33m)\u001b[0m\u001b[1;33m\u001b[0m\u001b[1;33m\u001b[0m\u001b[0m\n\u001b[0m",
      "\u001b[1;31mNameError\u001b[0m: name 'gov_answers' is not defined"
     ]
    }
   ],
   "source": [
    "print(gov_answers)"
   ]
  },
  {
   "cell_type": "code",
   "execution_count": 10,
   "metadata": {},
   "outputs": [
    {
     "output_type": "error",
     "ename": "AttributeError",
     "evalue": "'LsiModel' object has no attribute 'most_similar'",
     "traceback": [
      "\u001b[1;31m---------------------------------------------------------------------------\u001b[0m",
      "\u001b[1;31mAttributeError\u001b[0m                            Traceback (most recent call last)",
      "\u001b[1;32m<ipython-input-10-8c87209e0c53>\u001b[0m in \u001b[0;36m<module>\u001b[1;34m\u001b[0m\n\u001b[1;32m----> 1\u001b[1;33m \u001b[0mgov_answers\u001b[0m \u001b[1;33m=\u001b[0m \u001b[0mmodel\u001b[0m\u001b[1;33m.\u001b[0m\u001b[0mmost_similar\u001b[0m\u001b[1;33m(\u001b[0m\u001b[1;34m'government'\u001b[0m\u001b[1;33m)\u001b[0m\u001b[1;33m\u001b[0m\u001b[1;33m\u001b[0m\u001b[0m\n\u001b[0m",
      "\u001b[1;31mAttributeError\u001b[0m: 'LsiModel' object has no attribute 'most_similar'"
     ]
    }
   ],
   "source": [
    "gov_answers = model.most_similar('government')\n"
   ]
  },
  {
   "cell_type": "code",
   "execution_count": 11,
   "metadata": {},
   "outputs": [
    {
     "output_type": "execute_result",
     "data": {
      "text/plain": [
       "[(0,\n",
       "  '0.481*\"that\" + 0.385*\"is\" + 0.260*\"we\" + 0.236*\"i\" + 0.215*\"this\" + 0.215*\"on\" + 0.211*\"it\" + 0.189*\"be\" + 0.157*\"as\" + 0.149*\"not\"'),\n",
       " (1,\n",
       "  '-0.688*\"is\" + 0.400*\"on\" + 0.304*\"i\" + -0.263*\"it\" + 0.243*\"we\" + 0.156*\"have\" + -0.134*\"that\" + 0.122*\"mr\" + 0.087*\"by\" + 0.080*\"with\"'),\n",
       " (2,\n",
       "  '0.544*\"on\" + -0.524*\"we\" + -0.367*\"that\" + 0.288*\"is\" + -0.167*\"are\" + 0.143*\"mr\" + 0.140*\"i\" + 0.129*\"by\" + -0.129*\"have\" + 0.126*\"this\"'),\n",
       " (3,\n",
       "  '-0.557*\"i\" + 0.498*\"we\" + -0.467*\"that\" + 0.244*\"on\" + 0.185*\"is\" + 0.172*\"are\" + 0.122*\"which\" + 0.098*\"as\" + -0.093*\"would\" + -0.079*\"like\"'),\n",
       " (4,\n",
       "  '0.519*\"that\" + 0.511*\"on\" + -0.410*\"this\" + -0.353*\"i\" + -0.243*\"as\" + -0.140*\"which\" + -0.139*\"have\" + -0.094*\"not\" + -0.092*\"is\" + -0.088*\"with\"'),\n",
       " (5,\n",
       "  '0.709*\"be\" + -0.294*\"we\" + 0.259*\"will\" + -0.254*\"is\" + -0.253*\"i\" + 0.211*\"as\" + 0.200*\"it\" + -0.148*\"have\" + -0.102*\"mr\" + 0.094*\"must\"'),\n",
       " (6,\n",
       "  '-0.608*\"this\" + 0.577*\"as\" + 0.314*\"are\" + -0.218*\"be\" + -0.172*\"we\" + -0.135*\"will\" + -0.105*\"on\" + 0.092*\"which\" + 0.084*\"european\" + 0.083*\"with\"'),\n",
       " (7,\n",
       "  '0.483*\"this\" + -0.477*\"it\" + 0.413*\"are\" + -0.225*\"i\" + -0.222*\"we\" + 0.219*\"that\" + -0.210*\"have\" + 0.166*\"as\" + -0.164*\"be\" + 0.138*\"european\"'),\n",
       " (8,\n",
       "  '0.622*\"as\" + -0.498*\"are\" + -0.293*\"which\" + 0.221*\"this\" + -0.183*\"not\" + 0.162*\"that\" + -0.150*\"be\" + 0.133*\"we\" + -0.131*\"i\" + -0.122*\"with\"'),\n",
       " (9,\n",
       "  '0.382*\"have\" + 0.368*\"it\" + 0.333*\"has\" + -0.300*\"be\" + -0.269*\"is\" + 0.255*\"been\" + -0.246*\"as\" + -0.245*\"i\" + 0.210*\"with\" + 0.190*\"european\"'),\n",
       " (10,\n",
       "  '-0.408*\"it\" + -0.395*\"are\" + -0.357*\"not\" + 0.356*\"european\" + 0.313*\"with\" + -0.246*\"this\" + 0.206*\"which\" + 0.204*\"have\" + -0.184*\"on\" + 0.182*\"is\"'),\n",
       " (11,\n",
       "  '0.588*\"have\" + -0.397*\"with\" + -0.356*\"it\" + -0.324*\"european\" + -0.206*\"we\" + 0.176*\"been\" + 0.171*\"not\" + 0.153*\"which\" + 0.132*\"be\" + 0.117*\"is\"'),\n",
       " (12,\n",
       "  '0.618*\"with\" + -0.521*\"european\" + -0.312*\"not\" + -0.290*\"by\" + -0.194*\"mr\" + 0.158*\"on\" + -0.115*\"union\" + 0.099*\"have\" + -0.097*\"president,\" + 0.086*\"which\"'),\n",
       " (13,\n",
       "  '-0.683*\"not\" + -0.406*\"with\" + 0.312*\"it\" + 0.246*\"are\" + 0.201*\"which\" + 0.156*\"mr\" + -0.154*\"but\" + -0.147*\"do\" + 0.111*\"have\" + 0.110*\"by\"'),\n",
       " (14,\n",
       "  '0.471*\"european\" + -0.392*\"mr\" + -0.363*\"by\" + -0.319*\"has\" + 0.295*\"will\" + 0.236*\"have\" + -0.198*\"president,\" + 0.147*\"are\" + 0.143*\"i\" + -0.118*\"been\"'),\n",
       " (15,\n",
       "  '0.668*\"which\" + -0.344*\"mr\" + -0.337*\"have\" + 0.270*\"has\" + -0.192*\"with\" + -0.181*\"president,\" + -0.168*\"are\" + -0.150*\"be\" + -0.147*\"by\" + 0.112*\"i\"'),\n",
       " (16,\n",
       "  '0.603*\"by\" + 0.594*\"will\" + -0.260*\"be\" + -0.215*\"european\" + -0.207*\"has\" + -0.161*\"should\" + -0.150*\"would\" + -0.118*\"must\" + -0.097*\"been\" + -0.071*\"like\"'),\n",
       " (17,\n",
       "  '-0.546*\"will\" + 0.483*\"by\" + -0.462*\"mr\" + -0.266*\"president,\" + -0.221*\"has\" + 0.144*\"i\" + 0.113*\"should\" + 0.113*\"would\" + 0.095*\"must\" + 0.087*\"have\"'),\n",
       " (18,\n",
       "  '-0.578*\"has\" + 0.421*\"which\" + 0.330*\"-\" + -0.278*\"been\" + 0.224*\"mr\" + -0.185*\"i\" + 0.138*\"that\" + -0.128*\"are\" + -0.126*\"will\" + -0.120*\"is\"'),\n",
       " (19,\n",
       "  '0.917*\"-\" + -0.188*\"which\" + -0.167*\"mr\" + 0.162*\"has\" + -0.085*\"not\" + -0.084*\"president,\" + 0.067*\"been\" + -0.067*\"would\" + -0.059*\"have\" + -0.049*\"on\"')]"
      ]
     },
     "metadata": {},
     "execution_count": 11
    }
   ],
   "source": [
    "model.print_topics(num_topics=20, num_words=10)"
   ]
  },
  {
   "cell_type": "code",
   "execution_count": 13,
   "metadata": {},
   "outputs": [
    {
     "output_type": "execute_result",
     "data": {
      "text/plain": [
       "ll\" + 0.217*\"whether\" + 0.188*\"since\" + 0.180*\"possible\" + 0.161*\"particularly\" + 0.151*\"thank\" + 0.146*\"amendments\" + 0.141*\"here\"'),\n",
       " (190,\n",
       "  '-0.674*\"possible\" + -0.317*\"well\" + 0.251*\"too\" + -0.238*\"hope\" + 0.212*\"far\" + 0.155*\"information\" + -0.151*\"future\" + -0.128*\"world\" + 0.127*\"after\" + 0.098*\"years\"'),\n",
       " (191,\n",
       "  '-0.332*\"since\" + 0.286*\"action\" + 0.267*\"amendments\" + 0.262*\"particularly\" + -0.242*\"behalf\" + 0.193*\"after\" + -0.193*\"number\" + -0.177*\"place\" + -0.168*\"thank\" + 0.151*\"before\"'),\n",
       " (192,\n",
       "  '-0.467*\"world\" + -0.405*\"trade\" + 0.271*\"united\" + 0.211*\"means\" + 0.211*\"particularly\" + 0.180*\"rights\" + -0.166*\"human\" + 0.148*\"own\" + -0.147*\"cooperation\" + 0.119*\"thank\"'),\n",
       " (193,\n",
       "  '-0.673*\"particularly\" + 0.270*\"since\" + 0.248*\"given\" + 0.240*\"action\" + 0.227*\"then\" + 0.141*\"amendments\" + 0.127*\"united\" + -0.125*\"place\" + 0.116*\"too\" + -0.101*\"behalf\"'),\n",
       " (194,\n",
       "  '-0.716*\"before\" + -0.259*\"particularly\" + 0.222*\"future\" + 0.216*\"after\" + 0.136*\"years\" + -0.135*\"human\" + 0.134*\"rights\" + 0.130*\"cooperation\" + -0.123*\"end\" + -0.105*\"next\"'),\n",
       " (195,\n",
       "  '0.372*\"cooperation\" + 0.352*\"before\" + 0.340*\"rights\" + -0.329*\"human\" + 0.249*\"world\" + -0.237*\"security\" + 0.215*\"future\" + 0.191*\"trade\" + 0.184*\"s\" + 0.128*\"united\"'),\n",
       " (196,\n",
       "  '-0.685*\"give\" + -0.337*\"then\" + 0.315*\"too\" + 0.200*\"hope\" + 0.169*\"far\" + 0.163*\"know\" + -0.126*\"commissioner\" + 0.124*\"means\" + -0.103*\"much\" + -0.095*\"said\"'),\n",
       " (197,\n",
       "  '0.499*\"too\" + -0.407*\"action\" + 0.344*\"then\" + 0.214*\"far\" + 0.208*\"give\" + -0.172*\"much\" + 0.171*\"future\" + 0.169*\"security\" + 0.167*\"taken\" + 0.167*\"well\"'),\n",
       " (198,\n",
       "  '0.451*\"security\" + -0.278*\"too\" + -0.229*\"united\" + -0.192*\"give\" + -0.186*\"action\" + -0.178*\"vote\" + 0.170*\"amendments\" + 0.167*\"citizens\" + 0.163*\"before\" + 0.154*\"s\"'),\n",
       " (199,\n",
       "  '0.507*\"future\" + 0.291*\"human\" + -0.277*\"rights\" + -0.276*\"possible\" + -0.237*\"citizens\" + 0.215*\"information\" + 0.197*\"whether\" + -0.179*\"too\" + -0.173*\"action\" + -0.152*\"security\"'),\n",
       " (200,\n",
       "  '-0.509*\"future\" + -0.343*\"action\" + -0.264*\"security\" + 0.249*\"cooperation\" + -0.181*\"too\" + 0.177*\"taken\" + 0.165*\"amendments\" + -0.160*\"thank\" + 0.147*\"united\" + -0.144*\"vote\"'),\n",
       " (201,\n",
       "  '-0.446*\"whether\" + -0.419*\"hope\" + -0.347*\"then\" + 0.285*\"know\" + 0.196*\"s\" + 0.189*\"future\" + -0.165*\"action\" + 0.164*\"give\" + -0.151*\"particularly\" + 0.137*\"able\"'),\n",
       " (202,\n",
       "  '-0.844*\"s\" + 0.193*\"future\" + 0.141*\"amendments\" + 0.125*\"country\" + -0.122*\"commission\\'\" + 0.103*\"protection\" + 0.098*\"give\" + 0.097*\"before\" + 0.083*\"citizens\" + -0.081*\"human\"'),\n",
       " (203,\n",
       "  '-0.601*\"then\" + 0.400*\"give\" + -0.312*\"future\" + 0.211*\"hope\" + 0.170*\"whether\" + 0.163*\"amendments\" + 0.138*\"since\" + 0.128*\"commissioner\" + -0.126*\"said\" + 0.124*\"too\"'),\n",
       " (204,\n",
       "  '-0.827*\"country\" + 0.243*\"own\" + -0.123*\"s\" + 0.113*\"security\" + -0.107*\"action\" + -0.107*\"too\" + -0.103*\"every\" + -0.098*\"rules\" + 0.087*\"commissioner\" + 0.085*\"state\"'),\n",
       " (205,\n",
       "  '-0.581*\"protection\" + -0.297*\"health\" + 0.222*\"directive\" + 0.164*\"world\" + -0.158*\"s\" + 0.154*\"too\" + 0.153*\"trade\" + -0.150*\"environmental\" + 0.143*\"public\" + -0.141*\"then\"'),\n",
       " (206,\n",
       "  '0.430*\"know\" + 0.385*\"amendments\" + 0.235*\"then\" + 0.225*\"next\" + -0.220*\"said\" + 0.196*\"hope\" + 0.178*\"behalf\" + -0.167*\"whether\" + 0.147*\"rules\" + -0.145*\"too\"'),\n",
       " (207,\n",
       "  '-0.715*\"rules\" + 0.152*\"know\" + -0.140*\"next\" + 0.137*\"before\" + -0.131*\"treaty\" + 0.126*\"hope\" + 0.126*\"ensure\" + -0.124*\"procedure\" + -0.117*\"rule\" + -0.116*\"respect\"'),\n",
       " (208,\n",
       "  '0.397*\"amendments\" + 0.316*\"next\" + -0.275*\"rules\" + -0.254*\"know\" + 0.245*\"behalf\" + -0.239*\"hope\" + 0.192*\"said\" + 0.176*\"president\" + -0.153*\"group\" + 0.146*\"commissioner\"'),\n",
       " (209,\n",
       "  '0.462*\"citizens\" + 0.433*\"president\" + -0.279*\"certain\" + -0.230*\"system\" + -0.190*\"different\" + -0.154*\"rights\" + -0.139*\"security\" + 0.137*\"human\" + 0.135*\"government\" + -0.134*\"next\"'),\n",
       " (210,\n",
       "  '-0.399*\"citizens\" + 0.324*\"commissioner\" + -0.266*\"once\" + -0.247*\"again\" + 0.246*\"president\" + -0.230*\"favour\" + -0.204*\"voted\" + -0.165*\"next\" + 0.157*\"place\" + 0.143*\"country\"'),\n",
       " (211,\n",
       "  '-0.377*\"citizens\" + 0.370*\"president\" + -0.245*\"commissioner\" + 0.211*\"protection\" + 0.191*\"role\" + -0.189*\"different\" + 0.187*\"once\" + 0.178*\"favour\" + 0.172*\"again\" + 0.147*\"voted\"'),\n",
       " (212,\n",
       "  '0.489*\"once\" + 0.457*\"again\" + -0.319*\"favour\" + -0.270*\"voted\" + 0.201*\"place\" + -0.188*\"commissioner\" + -0.181*\"next\" + -0.140*\"resolution\" + -0.123*\"citizens\" + -0.117*\"thank\"'),\n",
       " (213,\n",
       "  '-0.648*\"certain\" + 0.337*\"years\" + -0.265*\"after\" + -0.244*\"system\" + -0.239*\"president\" + -0.140*\"government\" + -0.126*\"problems\" + -0.113*\"all,\" + 0.110*\"role\" + -0.107*\"over\"'),\n",
       " (214,\n",
       "  '0.631*\"system\" + 0.232*\"president\" + 0.228*\"different\" + 0.217*\"years\" + -0.208*\"role\" + -0.207*\"commissioner\" + -0.206*\"certain\" + -0.174*\"particular\" + -0.136*\"after\" + -0.134*\"women\"'),\n",
       " (215,\n",
       "  '0.767*\"different\" + -0.219*\"years\" + -0.207*\"system\" + -0.200*\"commissioner\" + 0.156*\"after\" + 0.154*\"president\" + -0.138*\"certain\" + 0.138*\"role\" + -0.107*\"said\" + 0.106*\"citizens\"'),\n",
       " (216,\n",
       "  '-0.463*\"commissioner\" + 0.376*\"certain\" + 0.330*\"years\" + -0.227*\"after\" + 0.180*\"role\" + 0.168*\"president\" + 0.158*\"particular\" + 0.157*\"thank\" + 0.147*\"citizens\" + 0.144*\"place\"'),\n",
       " (217,\n",
       "  '0.352*\"years\" + 0.343*\"different\" + 0.261*\"once\" + 0.257*\"certain\" + -0.257*\"system\" + 0.246*\"again\" + -0.244*\"after\" + 0.244*\"commissioner\" + 0.179*\"said\" + 0.141*\"president\"'),\n",
       " (218,\n",
       "  '0.524*\"role\" + 0.340*\"system\" + 0.291*\"citizens\" + 0.247*\"commissioner\" + 0.187*\"women\" + 0.166*\"play\" + 0.161*\"process\" + 0.153*\"said\" + 0.145*\"particular\" + 0.120*\"once\"'),\n",
       " (219,\n",
       "  '0.416*\"treaty\" + 0.214*\"said\" + 0.212*\"government\" + 0.207*\"article\" + -0.199*\"rules\" + -0.189*\"problems\" + -0.187*\"president\" + -0.183*\"role\" + 0.162*\"respect\" + 0.150*\"set\"'),\n",
       " (220,\n",
       "  '0.312*\"government\" + 0.264*\"programme\" + 0.260*\"framework\" + -0.258*\"role\" + 0.183*\"research\" + -0.180*\"treaty\" + 0.176*\"towards\" + 0.169*\"particular\" + -0.167*\"action\" + -0.165*\"behalf\"'),\n",
       " (221,\n",
       "  '0.354*\"particular\" + 0.343*\"problems\" + 0.321*\"amendment\" + -0.244*\"role\" + 0.232*\"treaty\" + -0.183*\"view\" + 0.181*\"next\" + 0.178*\"problem\" + 0.171*\"article\" + -0.155*\"certain\"'),\n",
       " (222,\n",
       "  '-0.538*\"said\" + 0.484*\"government\" + 0.197*\"commissioner\" + -0.143*\"hope\" + 0.139*\"ask\" + 0.136*\"problems\" + 0.129*\"amendment\" + -0.120*\"next\" + -0.113*\"state\" + 0.107*\"particular\"'),\n",
       " (223,\n",
       "  '0.425*\"government\" + 0.399*\"said\" + -0.227*\"commissioner\" + 0.225*\"problems\" + -0.198*\"president\" + -0.179*\"budget\" + -0.177*\"set\" + 0.155*\"rules\" + -0.155*\"framework\" + 0.149*\"women\"'),\n",
       " (224,\n",
       "  '-0.425*\"further\" + -0.320*\"towards\" + 0.306*\"government\" + -0.227*\"view\" + 0.206*\"programme\" + 0.200*\"framework\" + 0.197*\"system\" + -0.175*\"problems\" + -0.152*\"process\" + 0.150*\"amendment\"'),\n",
       " (225,\n",
       "  '0.321*\"particular\" + 0.276*\"amendment\" + 0.241*\"said\" + -0.231*\"health\" + 0.228*\"further\" + 0.202*\"towards\" + 0.192*\"behalf\" + 0.170*\"trade\" + -0.165*\"set\" + -0.145*\"world\"'),\n",
       " (226,\n",
       "  '-0.439*\"budget\" + 0.422*\"view\" + 0.368*\"amendment\" + 0.203*\"set\" + -0.186*\"respect\" + -0.148*\"protection\" + 0.145*\"treaty\" + -0.144*\"particular\" + -0.133*\"year\" + 0.131*\"health\"'),\n",
       " (227,\n",
       "  '-0.411*\"problems\" + 0.333*\"next\" + -0.291*\"behalf\" + -0.244*\"treaty\" + 0.207*\"amendment\" + -0.185*\"problem\" + -0.183*\"budget\" + -0.139*\"programme\" + -0.134*\"amendments\" + -0.132*\"framework\"'),\n",
       " (228,\n",
       "  '-0.556*\"view\" + 0.331*\"women\" + 0.269*\"towards\" + -0.262*\"particular\" + 0.192*\"further\" + 0.184*\"health\" + -0.146*\"problems\" + 0.140*\"working\" + 0.133*\"certain\" + 0.126*\"point\"'),\n",
       " (229,\n",
       "  '-0.462*\"amendment\" + -0.459*\"budget\" + 0.280*\"treaty\" + -0.236*\"set\" + 0.205*\"particular\" + 0.140*\"eur\" + 0.131*\"million\" + 0.127*\"amendments\" + 0.124*\"next\" + 0.120*\"place\"'),\n",
       " (230,\n",
       "  '-0.527*\"women\" + -0.317*\"view\" + 0.261*\"role\" + 0.246*\"problems\" + -0.191*\"particular\" + 0.181*\"framework\" + 0.175*\"amendment\" + 0.157*\"programme\" + -0.141*\"behalf\" + 0.140*\"further\"'),\n",
       " (231,\n",
       "  '-0.547*\"set\" + 0.247*\"view\" + 0.232*\"end\" + 0.198*\"amendment\" + 0.180*\"women\" + -0.171*\"particular\" + 0.157*\"protection\" + 0.150*\"problems\" + 0.149*\"programme\" + 0.148*\"come\"'),\n",
       " (232,\n",
       "  '0.376*\"health\" + -0.348*\"set\" + -0.276*\"problems\" + -0.259*\"protection\" + 0.251*\"particular\" + 0.216*\"budget\" + 0.214*\"safety\" + -0.214*\"problem\" + 0.203*\"food\" + -0.155*\"women\"'),\n",
       " (233,\n",
       "  '0.393*\"process\" + 0.238*\"place\" + -0.231*\"area\" + 0.207*\"world\" + 0.194*\"end\" + -0.194*\"trade\" + 0.183*\"regard\" + -0.171*\"vote\" + 0.163*\"amendment\" + -0.156*\"further\"'),\n",
       " (234,\n",
       "  '-0.402*\"problem\" + -0.296*\"world\" + -0.286*\"further\" + 0.245*\"area\" + 0.233*\"trade\" + 0.230*\"process\" + 0.223*\"problems\" + 0.180*\"necessary\" + -0.154*\"particular\" + 0.153*\"transport\"'),\n",
       " (235,\n",
       "  '0.321*\"place\" + -0.258*\"set\" + -0.233*\"respect\" + -0.215*\"health\" + -0.209*\"area\" + -0.183*\"vote\" + -0.180*\"every\" + 0.177*\"necessary\" + 0.172*\"treaty\" + -0.168*\"regard\"'),\n",
       " (236,\n",
       "  '0.390*\"place\" + -0.288*\"necessary\" + 0.274*\"further\" + -0.247*\"vote\" + -0.225*\"end\" + -0.207*\"come\" + 0.198*\"case\" + -0.179*\"particular\" + 0.168*\"problem\" + 0.154*\"taking\"'),\n",
       " (237,\n",
       "  '0.589*\"problem\" + -0.340*\"problems\" + 0.287*\"end\" + -0.280*\"further\" + 0.181*\"towards\" + -0.166*\"necessary\" + -0.155*\"world\" + -0.145*\"case\" + 0.140*\"transport\" + 0.127*\"trade\"'),\n",
       " (238,\n",
       "  '-0.438*\"necessary\" + -0.377*\"case\" + -0.289*\"problem\" + -0.262*\"further\" + 0.251*\"far\" + 0.213*\"towards\" + 0.154*\"better\" + 0.144*\"area\" + 0.141*\"regard\" + 0.133*\"transport\"'),\n",
       " (239,\n",
       "  '-0.477*\"respect\" + -0.347*\"necessary\" + 0.232*\"end\" + -0.227*\"problem\" + -0.206*\"fundamental\" + 0.201*\"case\" + 0.144*\"trade\" + -0.143*\"next\" + 0.139*\"every\" + 0.139*\"budget\"'),\n",
       " (240,\n",
       "  '-0.648*\"regard\" + 0.320*\"far\" + 0.282*\"case\" + -0.203*\"position\" + 0.202*\"particular\" + -0.196*\"area\" + -0.155*\"necessary\" + -0.147*\"too\" + -0.106*\"women\" + 0.105*\"agree\"'),\n",
       " (241,\n",
       "  '-0.488*\"case\" + 0.410*\"far\" + -0.380*\"towards\" + 0.261*\"necessary\" + -0.195*\"too\" + 0.195*\"process\" + -0.133*\"world\" + 0.116*\"concerned,\" + -0.113*\"working\" + 0.104*\"trade\"'),\n",
       " (242,\n",
       "  '-0.459*\"every\" + -0.370*\"necessary\" + 0.357*\"process\" + -0.270*\"transport\" + -0.198*\"year\" + -0.185*\"case\" + -0.180*\"world\" + 0.170*\"trade\" + -0.149*\"area\" + 0.131*\"health\"'),\n",
       " (243,\n",
       "  '0.356*\"terms\" + -0.352*\"area\" + 0.345*\"transport\" + 0.245*\"respect\" + -0.210*\"towards\" + 0.199*\"regard\" + 0.182*\"process\" + -0.171*\"come\" + -0.167*\"particular\" + -0.148*\"necessary\"'),\n",
       " (244,\n",
       "  '0.526*\"end\" + -0.409*\"process\" + 0.194*\"further\" + 0.185*\"set\" + -0.180*\"case\" + -0.174*\"every\" + 0.159*\"respect\" + 0.157*\"aid\" + -0.141*\"area\" + -0.139*\"during\"'),\n",
       " (245,\n",
       "  '-0.405*\"far\" + -0.302*\"case\" + -0.267*\"regard\" + 0.237*\"every\" + -0.225*\"necessary\" + -0.224*\"towards\" + 0.215*\"further\" + 0.190*\"too\" + 0.159*\"terms\" + -0.155*\"position\"'),\n",
       " (246,\n",
       "  '-0.470*\"area\" + -0.391*\"terms\" + -0.220*\"end\" + -0.217*\"case\" + -0.189*\"come\" + 0.182*\"level\" + 0.161*\"trade\" + 0.159*\"every\" + -0.158*\"position\" + 0.152*\"towards\"'),\n",
       " (247,\n",
       "  '0.515*\"come\" + 0.465*\"terms\" + -0.296*\"aid\" + -0.278*\"area\" + 0.131*\"necessary\" + 0.129*\"trade\" + 0.117*\"case\" + 0.107*\"set\" + -0.104*\"continue\" + -0.099*\"world\"'),\n",
       " (248,\n",
       "  '-0.442*\"terms\" + 0.421*\"come\" + 0.350*\"transport\" + -0.228*\"level\" + 0.227*\"during\" + 0.176*\"set\" + 0.165*\"issues\" + -0.132*\"union.\" + -0.131*\"every\" + 0.109*\"respect\"'),\n",
       " (249,\n",
       "  '-0.359*\"regard\" + 0.354*\"position\" + 0.304*\"adopted\" + -0.267*\"come\" + 0.253*\"resolution\" + -0.165*\"level\" + -0.164*\"far\" + -0.144*\"aid\" + 0.136*\"necessary\" + -0.132*\"favour\"'),\n",
       " (250,\n",
       "  '0.646*\"going\" + 0.324*\"aid\" + 0.247*\"resolution\" + 0.191*\"every\" + 0.174*\"regulation\" + 0.166*\"adopted\" + -0.151*\"shall\" + -0.138*\"end\" + -0.131*\"working\" + -0.118*\"transport\"'),\n",
       " (251,\n",
       "  '0.469*\"going\" + -0.332*\"aid\" + 0.280*\"transport\" + -0.247*\"come\" + -0.229*\"during\" + -0.201*\"level\" + -0.200*\"every\" + -0.166*\"presidency\" + -0.144*\"food\" + -0.133*\"adopted\"'),\n",
       " (252,\n",
       "  '0.446*\"during\" + 0.369*\"presidency\" + -0.261*\"come\" + 0.236*\"terms\" + 0.233*\"working\" + -0.188*\"process\" + 0.182*\"issues\" + -0.174*\"level\" + 0.163*\"going\" + -0.153*\"union.\"'),\n",
       " (253,\n",
       "  '0.527*\"level\" + 0.274*\"going\" + -0.251*\"every\" + 0.245*\"high\" + 0.193*\"during\" + -0.172*\"regulation\" + 0.162*\"position\" + 0.147*\"area\" + 0.147*\"case\" + 0.141*\"respect\"'),\n",
       " (254,\n",
       "  '-0.757*\"union.\" + 0.157*\"level\" + 0.153*\"resolution\" + -0.147*\"programme\" + -0.145*\"transport\" + 0.132*\"commissioner,\" + -0.125*\"presidency\" + 0.121*\"regulation\" + 0.118*\"adopted\" + -0.114*\"aid\"'),\n",
       " (255,\n",
       "  '-0.472*\"working\" + -0.397*\"regulation\" + -0.303*\"better\" + 0.226*\"aid\" + 0.210*\"towards\" + 0.202*\"transport\" + -0.195*\"union.\" + 0.168*\"women\" + 0.156*\"environmental\" + 0.145*\"terms\"'),\n",
       " (256,\n",
       "  '0.446*\"regulation\" + -0.395*\"position\" + -0.246*\"aid\" + 0.232*\"issues\" + 0.171*\"three\" + -0.168*\"working\" + -0.149*\"every\" + -0.146*\"something\" + -0.135*\"better\" + 0.126*\"level\"'),\n",
       " (257,\n",
       "  '0.379*\"shall\" + 0.305*\"working\" + 0.303*\"house\" + 0.283*\"continue\" + -0.269*\"during\" + -0.248*\"agree\" + -0.183*\"proposals\" + 0.172*\"issues\" + 0.156*\"today\" + -0.152*\"better\"'),\n",
       " (258,\n",
       "  '0.405*\"proposals\" + -0.257*\"issues\" + -0.243*\"better\" + -0.224*\"something\" + 0.207*\"working\" + -0.203*\"house\" + -0.195*\"position\" + 0.176*\"year\" + -0.173*\"greater\" + -0.172*\"regulation\"'),\n",
       " (259,\n",
       "  '0.390*\"regulation\" + -0.349*\"issues\" + -0.254*\"environmental\" + -0.246*\"resolution\" + -0.223*\"better\" + -0.191*\"proposals\" + 0.170*\"during\" + -0.164*\"greater\" + -0.152*\"employment\" + 0.142*\"towards\"'),\n",
       " (260,\n",
       "  '-0.389*\"shall\" + 0.348*\"house\" + 0.270*\"working\" + -0.234*\"general\" + -0.218*\"services\" + -0.216*\"continue\" + 0.199*\"ask\" + -0.192*\"issues\" + -0.157*\"position\" + -0.145*\"few\"'),\n",
       " (261,\n",
       "  '0.335*\"services\" + -0.315*\"position\" + -0.296*\"issues\" + 0.271*\"resolution\" + -0.243*\"environmental\" + 0.190*\"general\" + -0.188*\"working\" + 0.178*\"during\" + 0.166*\"ask\" + 0.164*\"something\"'),\n",
       " (262,\n",
       "  '-0.366*\"shall\" + 0.336*\"issues\" + 0.321*\"services\" + 0.289*\"general\" + 0.221*\"aid\" + 0.209*\"something\" + -0.187*\"proposals\" + -0.167*\"resolution\" + -0.150*\"continue\" + -0.134*\"few\"'),\n",
       " (263,\n",
       "  '-0.427*\"few\" + -0.301*\"proposals\" + -0.259*\"house\" + -0.245*\"quite\" + 0.245*\"year\" + 0.236*\"three\" + 0.211*\"resolution\" + -0.178*\"wish\" + -0.172*\"services\" + -0.169*\"end\"'),\n",
       " (264,\n",
       "  '-0.409*\"something\" + -0.341*\"commissioner,\" + -0.265*\"quite\" + 0.223*\"house\" + -0.201*\"few\" + -0.173*\"working\" + -0.173*\"ask\" + -0.161*\"food\" + 0.155*\"greater\" + 0.155*\"better\"'),\n",
       " (265,\n",
       "  '0.450*\"something\" + 0.313*\"house\" + -0.263*\"research\" + 0.249*\"shall\" + 0.249*\"proposals\" + -0.240*\"wish\" + 0.223*\"year\" + -0.155*\"every\" + -0.148*\"three\" + -0.145*\".\"'),\n",
       " (266,\n",
       "  '0.437*\"ask\" + 0.399*\"commissioner,\" + -0.184*\"few\" + -0.182*\"resolution\" + 0.182*\"house\" + 0.179*\"position\" + 0.157*\"areas\" + 0.145*\"specific\" + -0.141*\"safety\" + -0.132*\"something\"'),\n",
       " (267,\n",
       "  '-0.377*\".\" + -0.342*\"proposals\" + 0.291*\"environmental\" + -0.216*\"something\" + 0.215*\"general\" + -0.213*\"wish\" + 0.192*\"food\" + 0.187*\"during\" + -0.161*\"presidency\" + -0.152*\"health\"'),\n",
       " (268,\n",
       "  '-0.368*\"food\" + -0.317*\".\" + -0.262*\"safety\" + 0.257*\"health\" + -0.252*\"three\" + 0.170*\"few\" + -0.168*\"presidency\" + 0.166*\"issues\" + -0.162*\"position\" + -0.159*\"something\"'),\n",
       " (269,\n",
       "  '-0.334*\".\" + -0.279*\"agree\" + -0.248*\"house\" + 0.238*\"presidency\" + 0.217*\"better\" + 0.197*\"wish\" + -0.184*\"small\" + -0.174*\"during\" + -0.162*\"quite\" + 0.159*\"shall\"'),\n",
       " (270,\n",
       "  '0.537*\"environmental\" + 0.294*\"presidency\" + -0.270*\"issues\" + 0.248*\".\" + 0.223*\"today\" + -0.207*\"during\" + -0.191*\"food\" + -0.157*\"safety\" + -0.136*\"research\" + -0.133*\"house\"'),\n",
       " (271,\n",
       "  '-0.381*\".\" + -0.285*\"year\" + -0.247*\"better\" + 0.191*\"three\" + -0.188*\"during\" + 0.179*\"presidency\" + 0.177*\"employment\" + -0.166*\"today\" + -0.151*\"ask\" + 0.149*\"framework\"'),\n",
       " (272,\n",
       "  '0.354*\"presidency\" + 0.292*\".\" + -0.268*\"something\" + -0.233*\"wish\" + -0.213*\"environmental\" + 0.201*\"employment\" + 0.198*\"agree\" + 0.178*\"framework\" + -0.172*\"research\" + -0.171*\"three\"'),\n",
       " (273,\n",
       "  '-0.358*\"three\" + -0.323*\"commissioner,\" + -0.279*\"decision\" + 0.238*\"presidency\" + -0.219*\"quite\" + -0.208*\"during\" + 0.179*\"basis\" + -0.164*\"matter\" + 0.154*\"issues\" + -0.148*\"framework\"'),\n",
       " (274,\n",
       "  '-0.349*\"today\" + -0.244*\"three\" + -0.239*\"year\" + -0.239*\"research\" + 0.215*\"environmental\" + -0.213*\"quite\" + 0.200*\".\" + -0.189*\"areas\" + 0.181*\"framework\" + 0.180*\"wish\"'),\n",
       " (275,\n",
       "  '0.473*\"research\" + -0.405*\"programme\" + 0.213*\"commissioner,\" + -0.187*\"wish\" + 0.172*\"today\" + -0.162*\"matter\" + 0.161*\"shall\" + -0.158*\"quite\" + 0.151*\"environmental\" + -0.148*\"specific\"'),\n",
       " (276,\n",
       "  '-0.267*\"ask\" + -0.232*\"three\" + -0.227*\"aid\" + 0.213*\"areas\" + 0.210*\"continue\" + 0.208*\"today\" + 0.202*\"commissioner,\" + 0.200*\"wish\" + -0.190*\"fundamental\" + 0.169*\"food\"'),\n",
       " (277,\n",
       "  '-0.322*\"quite\" + 0.318*\"decision\" + -0.274*\"programme\" + -0.266*\"continue\" + -0.216*\"long\" + -0.216*\"commissioner,\" + 0.202*\"framework\" + -0.155*\"wish\" + 0.149*\".\" + 0.140*\"specific\"'),\n",
       " (278,\n",
       "  '-0.323*\"needs\" + -0.304*\"specific\" + 0.242*\"programme\" + 0.233*\"fundamental\" + -0.230*\"ask\" + -0.218*\"greater\" + 0.183*\"commissioner,\" + -0.157*\"quite\" + 0.148*\"funds\" + -0.143*\"continue\"'),\n",
       " (279,\n",
       "  '0.365*\"quite\" + -0.345*\"few\" + 0.301*\"matter\" + 0.186*\"long\" + -0.172*\"continue\" + 0.164*\"research\" + -0.164*\"employment\" + -0.155*\"strategy\" + 0.151*\"small\" + 0.143*\"greater\"'),\n",
       " (280,\n",
       "  '0.331*\"matter\" + -0.296*\"quite\" + -0.270*\"ask\" + 0.223*\"house\" + 0.205*\"specific\" + -0.194*\"fundamental\" + 0.171*\"commissioner,\" + -0.170*\"framework\" + -0.161*\"year\" + 0.150*\"programme\"'),\n",
       " (281,\n",
       "  '0.329*\"employment\" + -0.328*\"fundamental\" + -0.252*\"areas\" + 0.213*\"matter\" + 0.197*\"respect\" + 0.189*\"strategy\" + -0.182*\"greater\" + 0.160*\"course,\" + -0.157*\"year\" + -0.154*\"house\"'),\n",
       " (282,\n",
       "  '-0.280*\"fundamental\" + -0.272*\"basis\" + -0.260*\"matter\" + 0.233*\"shall\" + -0.226*\"quite\" + -0.213*\"continue\" + -0.172*\"needs\" + 0.162*\"few\" + 0.152*\"ask\" + 0.147*\"respect\"'),\n",
       " (283,\n",
       "  '-0.358*\"course,\" + -0.318*\"adopted\" + -0.299*\"continue\" + 0.246*\"specific\" + -0.235*\"is,\" + -0.216*\"areas\" + -0.215*\"ask\" + 0.182*\"shall\" + 0.163*\"commissioner,\" + -0.163*\"matter\"'),\n",
       " (284,\n",
       "  '-0.538*\"long\" + 0.241*\"wish\" + -0.203*\"go\" + 0.168*\"matter\" + -0.161*\"decision\" + -0.151*\"welcome\" + -0.149*\"better\" + -0.146*\"proposed\" + 0.144*\"her\" + -0.143*\"few\"'),\n",
       " (285,\n",
       "  '-0.326*\"areas\" + 0.280*\"funds\" + -0.262*\"matter\" + 0.241*\"structural\" + 0.192*\"course,\" + 0.175*\"regional\" + 0.170*\"long\" + 0.150*\"general\" + 0.149*\"is,\" + -0.147*\"small\"'),\n",
       " (286,\n",
       "  '0.265*\"matter\" + 0.247*\"long\" + 0.246*\"fundamental\" + 0.232*\"specific\" + -0.216*\"areas\" + 0.202*\"wish\" + -0.199*\"greater\" + 0.199*\"year\" + 0.165*\"research\" + -0.154*\"quite\"'),\n",
       " (287,\n",
       "  '-0.384*\"course,\" + 0.303*\"adopted\" + -0.289*\"present\" + -0.250*\"specific\" + -0.250*\"is,\" + -0.212*\"long\" + 0.191*\"second\" + -0.161*\"areas\" + 0.160*\"decision\" + 0.138*\"something\"'),\n",
       " (288,\n",
       "  '0.285*\"specific\" + -0.247*\"present\" + 0.244*\"areas\" + 0.211*\"law\" + -0.201*\"basis\" + -0.185*\"including\" + -0.173*\"few\" + 0.162*\"general\" + 0.154*\"safety\" + -0.147*\"agree\"'),\n",
       " (289,\n",
       "  '-0.399*\"matter\" + 0.310*\"course,\" + 0.241*\"is,\" + 0.233*\"second\" + -0.206*\"long\" + 0.200*\"present\" + -0.187*\"today\" + 0.176*\"decision\" + 0.173*\"adopted\" + 0.170*\"court\"'),\n",
       " (290,\n",
       "  '-0.466*\"present\" + -0.340*\"second\" + 0.198*\"her\" + 0.182*\"today\" + -0.155*\"areas\" + -0.152*\"long\" + 0.145*\"specific\" + 0.141*\"course,\" + 0.139*\"rapporteur\" + -0.138*\"basis\"'),\n",
       " (291,\n",
       "  '-0.455*\"present\" + -0.334*\"adopted\" + 0.226*\"resolution\" + 0.212*\"few\" + -0.203*\"including\" + 0.173*\"second\" + 0.161*\"course,\" + -0.153*\"specific\" + 0.148*\"three\" + 0.145*\"proposals\"'),\n",
       " (292,\n",
       "  '-0.282*\"basis\" + 0.278*\"present\" + -0.192*\"wish\" + 0.180*\"another\" + 0.174*\"general\" + -0.169*\"long\" + -0.161*\"course,\" + 0.156*\"continue\" + 0.151*\"go\" + -0.150*\"agree\"'),\n",
       " (293,\n",
       "  '-0.330*\"second\" + -0.249*\"proposed\" + 0.235*\"greater\" + 0.226*\"agree\" + 0.200*\"present\" + 0.175*\"decision\" + -0.174*\"each\" + -0.161*\"principle\" + 0.158*\"help\" + -0.147*\"better\"'),\n",
       " (294,\n",
       "  '0.353*\"principle\" + -0.276*\"help\" + -0.234*\"second\" + -0.229*\"her\" + -0.195*\"areas\" + -0.168*\"services\" + 0.165*\"general\" + 0.156*\"current\" + -0.154*\"rapporteur\" + -0.150*\"proposed\"')]"
      ]
     },
     "metadata": {},
     "execution_count": 13
    }
   ],
   "source": [
    "model.show_topics(num_topics=-1, num_words=10, log=False, formatted=True)\n"
   ]
  },
  {
   "cell_type": "code",
   "execution_count": 41,
   "metadata": {},
   "outputs": [],
   "source": [
    "path = u\"C:/Users/justi/documents/RDPTranslation/data/english-data.txt\"\n",
    "class MySentences(object):\n",
    "    def __init__(self, dirname):\n",
    "        self.dirname = dirname\n",
    " \n",
    "    def __iter__(self):\n",
    "            for line in open(path,encoding=\"utf8\"):\n",
    "                yield line.split()\n",
    "\n",
    "sentences = MySentences(path) # a memory-friendly iterator\n",
    "# sentences = []\n",
    "# sentences.append(line.lower().split() for line in open(path, encoding=\"utf8\"))"
   ]
  },
  {
   "cell_type": "code",
   "execution_count": 45,
   "metadata": {},
   "outputs": [
    {
     "output_type": "error",
     "ename": "UnicodeDecodeError",
     "evalue": "'charmap' codec can't decode byte 0x81 in position 4932: character maps to <undefined>",
     "traceback": [
      "\u001b[1;31m---------------------------------------------------------------------------\u001b[0m",
      "\u001b[1;31mUnicodeDecodeError\u001b[0m                        Traceback (most recent call last)",
      "\u001b[1;32m<ipython-input-45-59a5972cfd82>\u001b[0m in \u001b[0;36m<module>\u001b[1;34m\u001b[0m\n\u001b[1;32m----> 1\u001b[1;33m \u001b[0mmodel\u001b[0m \u001b[1;33m=\u001b[0m \u001b[0mWord2Vec\u001b[0m\u001b[1;33m(\u001b[0m\u001b[0msentences\u001b[0m\u001b[1;33m)\u001b[0m\u001b[1;33m\u001b[0m\u001b[1;33m\u001b[0m\u001b[0m\n\u001b[0m",
      "\u001b[1;32m~\\AppData\\Local\\Programs\\Python\\Python38\\lib\\site-packages\\gensim\\models\\word2vec.py\u001b[0m in \u001b[0;36m__init__\u001b[1;34m(self, sentences, size, alpha, window, min_count, max_vocab_size, sample, seed, workers, min_alpha, sg, hs, negative, cbow_mean, hashfxn, iter, null_word, trim_rule, sorted_vocab, batch_words, compute_loss, callbacks)\u001b[0m\n\u001b[0;32m    521\u001b[0m         \u001b[0mself\u001b[0m\u001b[1;33m.\u001b[0m\u001b[0mtrainables\u001b[0m \u001b[1;33m=\u001b[0m \u001b[0mWord2VecTrainables\u001b[0m\u001b[1;33m(\u001b[0m\u001b[0mseed\u001b[0m\u001b[1;33m=\u001b[0m\u001b[0mseed\u001b[0m\u001b[1;33m,\u001b[0m \u001b[0mvector_size\u001b[0m\u001b[1;33m=\u001b[0m\u001b[0msize\u001b[0m\u001b[1;33m,\u001b[0m \u001b[0mhashfxn\u001b[0m\u001b[1;33m=\u001b[0m\u001b[0mhashfxn\u001b[0m\u001b[1;33m)\u001b[0m\u001b[1;33m\u001b[0m\u001b[1;33m\u001b[0m\u001b[0m\n\u001b[0;32m    522\u001b[0m \u001b[1;33m\u001b[0m\u001b[0m\n\u001b[1;32m--> 523\u001b[1;33m         super(Word2Vec, self).__init__(\n\u001b[0m\u001b[0;32m    524\u001b[0m             \u001b[0msentences\u001b[0m\u001b[1;33m=\u001b[0m\u001b[0msentences\u001b[0m\u001b[1;33m,\u001b[0m \u001b[0mworkers\u001b[0m\u001b[1;33m=\u001b[0m\u001b[0mworkers\u001b[0m\u001b[1;33m,\u001b[0m \u001b[0mvector_size\u001b[0m\u001b[1;33m=\u001b[0m\u001b[0msize\u001b[0m\u001b[1;33m,\u001b[0m \u001b[0mepochs\u001b[0m\u001b[1;33m=\u001b[0m\u001b[0miter\u001b[0m\u001b[1;33m,\u001b[0m \u001b[0mcallbacks\u001b[0m\u001b[1;33m=\u001b[0m\u001b[0mcallbacks\u001b[0m\u001b[1;33m,\u001b[0m\u001b[1;33m\u001b[0m\u001b[1;33m\u001b[0m\u001b[0m\n\u001b[0;32m    525\u001b[0m             \u001b[0mbatch_words\u001b[0m\u001b[1;33m=\u001b[0m\u001b[0mbatch_words\u001b[0m\u001b[1;33m,\u001b[0m \u001b[0mtrim_rule\u001b[0m\u001b[1;33m=\u001b[0m\u001b[0mtrim_rule\u001b[0m\u001b[1;33m,\u001b[0m \u001b[0msg\u001b[0m\u001b[1;33m=\u001b[0m\u001b[0msg\u001b[0m\u001b[1;33m,\u001b[0m \u001b[0malpha\u001b[0m\u001b[1;33m=\u001b[0m\u001b[0malpha\u001b[0m\u001b[1;33m,\u001b[0m \u001b[0mwindow\u001b[0m\u001b[1;33m=\u001b[0m\u001b[0mwindow\u001b[0m\u001b[1;33m,\u001b[0m \u001b[0mseed\u001b[0m\u001b[1;33m=\u001b[0m\u001b[0mseed\u001b[0m\u001b[1;33m,\u001b[0m\u001b[1;33m\u001b[0m\u001b[1;33m\u001b[0m\u001b[0m\n",
      "\u001b[1;32m~\\AppData\\Local\\Programs\\Python\\Python38\\lib\\site-packages\\gensim\\models\\base_any2vec.py\u001b[0m in \u001b[0;36m__init__\u001b[1;34m(self, sentences, workers, vector_size, epochs, callbacks, batch_words, trim_rule, sg, alpha, window, seed, hs, negative, cbow_mean, min_alpha, compute_loss, fast_version, **kwargs)\u001b[0m\n\u001b[0;32m    333\u001b[0m             \u001b[1;32mif\u001b[0m \u001b[0misinstance\u001b[0m\u001b[1;33m(\u001b[0m\u001b[0msentences\u001b[0m\u001b[1;33m,\u001b[0m \u001b[0mGeneratorType\u001b[0m\u001b[1;33m)\u001b[0m\u001b[1;33m:\u001b[0m\u001b[1;33m\u001b[0m\u001b[1;33m\u001b[0m\u001b[0m\n\u001b[0;32m    334\u001b[0m                 \u001b[1;32mraise\u001b[0m \u001b[0mTypeError\u001b[0m\u001b[1;33m(\u001b[0m\u001b[1;34m\"You can't pass a generator as the sentences argument. Try an iterator.\"\u001b[0m\u001b[1;33m)\u001b[0m\u001b[1;33m\u001b[0m\u001b[1;33m\u001b[0m\u001b[0m\n\u001b[1;32m--> 335\u001b[1;33m             \u001b[0mself\u001b[0m\u001b[1;33m.\u001b[0m\u001b[0mbuild_vocab\u001b[0m\u001b[1;33m(\u001b[0m\u001b[0msentences\u001b[0m\u001b[1;33m,\u001b[0m \u001b[0mtrim_rule\u001b[0m\u001b[1;33m=\u001b[0m\u001b[0mtrim_rule\u001b[0m\u001b[1;33m)\u001b[0m\u001b[1;33m\u001b[0m\u001b[1;33m\u001b[0m\u001b[0m\n\u001b[0m\u001b[0;32m    336\u001b[0m             self.train(\n\u001b[0;32m    337\u001b[0m                 \u001b[0msentences\u001b[0m\u001b[1;33m,\u001b[0m \u001b[0mtotal_examples\u001b[0m\u001b[1;33m=\u001b[0m\u001b[0mself\u001b[0m\u001b[1;33m.\u001b[0m\u001b[0mcorpus_count\u001b[0m\u001b[1;33m,\u001b[0m \u001b[0mepochs\u001b[0m\u001b[1;33m=\u001b[0m\u001b[0mself\u001b[0m\u001b[1;33m.\u001b[0m\u001b[0mepochs\u001b[0m\u001b[1;33m,\u001b[0m \u001b[0mstart_alpha\u001b[0m\u001b[1;33m=\u001b[0m\u001b[0mself\u001b[0m\u001b[1;33m.\u001b[0m\u001b[0malpha\u001b[0m\u001b[1;33m,\u001b[0m\u001b[1;33m\u001b[0m\u001b[1;33m\u001b[0m\u001b[0m\n",
      "\u001b[1;32m~\\AppData\\Local\\Programs\\Python\\Python38\\lib\\site-packages\\gensim\\models\\base_any2vec.py\u001b[0m in \u001b[0;36mbuild_vocab\u001b[1;34m(self, sentences, update, progress_per, keep_raw_vocab, trim_rule, **kwargs)\u001b[0m\n\u001b[0;32m    477\u001b[0m \u001b[1;33m\u001b[0m\u001b[0m\n\u001b[0;32m    478\u001b[0m         \"\"\"\n\u001b[1;32m--> 479\u001b[1;33m         total_words, corpus_count = self.vocabulary.scan_vocab(\n\u001b[0m\u001b[0;32m    480\u001b[0m             sentences, progress_per=progress_per, trim_rule=trim_rule)\n\u001b[0;32m    481\u001b[0m         \u001b[0mself\u001b[0m\u001b[1;33m.\u001b[0m\u001b[0mcorpus_count\u001b[0m \u001b[1;33m=\u001b[0m \u001b[0mcorpus_count\u001b[0m\u001b[1;33m\u001b[0m\u001b[1;33m\u001b[0m\u001b[0m\n",
      "\u001b[1;32m~\\AppData\\Local\\Programs\\Python\\Python38\\lib\\site-packages\\gensim\\models\\word2vec.py\u001b[0m in \u001b[0;36mscan_vocab\u001b[1;34m(self, sentences, progress_per, trim_rule)\u001b[0m\n\u001b[0;32m   1149\u001b[0m         \u001b[0mvocab\u001b[0m \u001b[1;33m=\u001b[0m \u001b[0mdefaultdict\u001b[0m\u001b[1;33m(\u001b[0m\u001b[0mint\u001b[0m\u001b[1;33m)\u001b[0m\u001b[1;33m\u001b[0m\u001b[1;33m\u001b[0m\u001b[0m\n\u001b[0;32m   1150\u001b[0m         \u001b[0mchecked_string_types\u001b[0m \u001b[1;33m=\u001b[0m \u001b[1;36m0\u001b[0m\u001b[1;33m\u001b[0m\u001b[1;33m\u001b[0m\u001b[0m\n\u001b[1;32m-> 1151\u001b[1;33m         \u001b[1;32mfor\u001b[0m \u001b[0msentence_no\u001b[0m\u001b[1;33m,\u001b[0m \u001b[0msentence\u001b[0m \u001b[1;32min\u001b[0m \u001b[0menumerate\u001b[0m\u001b[1;33m(\u001b[0m\u001b[0msentences\u001b[0m\u001b[1;33m)\u001b[0m\u001b[1;33m:\u001b[0m\u001b[1;33m\u001b[0m\u001b[1;33m\u001b[0m\u001b[0m\n\u001b[0m\u001b[0;32m   1152\u001b[0m             \u001b[1;32mif\u001b[0m \u001b[1;32mnot\u001b[0m \u001b[0mchecked_string_types\u001b[0m\u001b[1;33m:\u001b[0m\u001b[1;33m\u001b[0m\u001b[1;33m\u001b[0m\u001b[0m\n\u001b[0;32m   1153\u001b[0m                 \u001b[1;32mif\u001b[0m \u001b[0misinstance\u001b[0m\u001b[1;33m(\u001b[0m\u001b[0msentence\u001b[0m\u001b[1;33m,\u001b[0m \u001b[0mstring_types\u001b[0m\u001b[1;33m)\u001b[0m\u001b[1;33m:\u001b[0m\u001b[1;33m\u001b[0m\u001b[1;33m\u001b[0m\u001b[0m\n",
      "\u001b[1;32m<ipython-input-41-c7cb1e856999>\u001b[0m in \u001b[0;36m__iter__\u001b[1;34m(self)\u001b[0m\n\u001b[0;32m      5\u001b[0m \u001b[1;33m\u001b[0m\u001b[0m\n\u001b[0;32m      6\u001b[0m     \u001b[1;32mdef\u001b[0m \u001b[0m__iter__\u001b[0m\u001b[1;33m(\u001b[0m\u001b[0mself\u001b[0m\u001b[1;33m)\u001b[0m\u001b[1;33m:\u001b[0m\u001b[1;33m\u001b[0m\u001b[1;33m\u001b[0m\u001b[0m\n\u001b[1;32m----> 7\u001b[1;33m             \u001b[1;32mfor\u001b[0m \u001b[0mline\u001b[0m \u001b[1;32min\u001b[0m \u001b[0mopen\u001b[0m\u001b[1;33m(\u001b[0m\u001b[0mpath\u001b[0m\u001b[1;33m)\u001b[0m\u001b[1;33m:\u001b[0m\u001b[1;33m\u001b[0m\u001b[1;33m\u001b[0m\u001b[0m\n\u001b[0m\u001b[0;32m      8\u001b[0m                 \u001b[1;32myield\u001b[0m \u001b[0mline\u001b[0m\u001b[1;33m.\u001b[0m\u001b[0msplit\u001b[0m\u001b[1;33m(\u001b[0m\u001b[1;33m)\u001b[0m\u001b[1;33m\u001b[0m\u001b[1;33m\u001b[0m\u001b[0m\n\u001b[0;32m      9\u001b[0m \u001b[1;33m\u001b[0m\u001b[0m\n",
      "\u001b[1;32m~\\AppData\\Local\\Programs\\Python\\Python38\\lib\\encodings\\cp1252.py\u001b[0m in \u001b[0;36mdecode\u001b[1;34m(self, input, final)\u001b[0m\n\u001b[0;32m     21\u001b[0m \u001b[1;32mclass\u001b[0m \u001b[0mIncrementalDecoder\u001b[0m\u001b[1;33m(\u001b[0m\u001b[0mcodecs\u001b[0m\u001b[1;33m.\u001b[0m\u001b[0mIncrementalDecoder\u001b[0m\u001b[1;33m)\u001b[0m\u001b[1;33m:\u001b[0m\u001b[1;33m\u001b[0m\u001b[1;33m\u001b[0m\u001b[0m\n\u001b[0;32m     22\u001b[0m     \u001b[1;32mdef\u001b[0m \u001b[0mdecode\u001b[0m\u001b[1;33m(\u001b[0m\u001b[0mself\u001b[0m\u001b[1;33m,\u001b[0m \u001b[0minput\u001b[0m\u001b[1;33m,\u001b[0m \u001b[0mfinal\u001b[0m\u001b[1;33m=\u001b[0m\u001b[1;32mFalse\u001b[0m\u001b[1;33m)\u001b[0m\u001b[1;33m:\u001b[0m\u001b[1;33m\u001b[0m\u001b[1;33m\u001b[0m\u001b[0m\n\u001b[1;32m---> 23\u001b[1;33m         \u001b[1;32mreturn\u001b[0m \u001b[0mcodecs\u001b[0m\u001b[1;33m.\u001b[0m\u001b[0mcharmap_decode\u001b[0m\u001b[1;33m(\u001b[0m\u001b[0minput\u001b[0m\u001b[1;33m,\u001b[0m\u001b[0mself\u001b[0m\u001b[1;33m.\u001b[0m\u001b[0merrors\u001b[0m\u001b[1;33m,\u001b[0m\u001b[0mdecoding_table\u001b[0m\u001b[1;33m)\u001b[0m\u001b[1;33m[\u001b[0m\u001b[1;36m0\u001b[0m\u001b[1;33m]\u001b[0m\u001b[1;33m\u001b[0m\u001b[1;33m\u001b[0m\u001b[0m\n\u001b[0m\u001b[0;32m     24\u001b[0m \u001b[1;33m\u001b[0m\u001b[0m\n\u001b[0;32m     25\u001b[0m \u001b[1;32mclass\u001b[0m \u001b[0mStreamWriter\u001b[0m\u001b[1;33m(\u001b[0m\u001b[0mCodec\u001b[0m\u001b[1;33m,\u001b[0m\u001b[0mcodecs\u001b[0m\u001b[1;33m.\u001b[0m\u001b[0mStreamWriter\u001b[0m\u001b[1;33m)\u001b[0m\u001b[1;33m:\u001b[0m\u001b[1;33m\u001b[0m\u001b[1;33m\u001b[0m\u001b[0m\n",
      "\u001b[1;31mUnicodeDecodeError\u001b[0m: 'charmap' codec can't decode byte 0x81 in position 4932: character maps to <undefined>"
     ]
    }
   ],
   "source": [
    "model = Word2Vec(sentences)"
   ]
  },
  {
   "cell_type": "code",
   "execution_count": 38,
   "metadata": {},
   "outputs": [
    {
     "output_type": "error",
     "ename": "TypeError",
     "evalue": "unhashable type: 'list'",
     "traceback": [
      "\u001b[1;31m---------------------------------------------------------------------------\u001b[0m",
      "\u001b[1;31mTypeError\u001b[0m                                 Traceback (most recent call last)",
      "\u001b[1;32m<ipython-input-38-85c4c4b302b7>\u001b[0m in \u001b[0;36m<module>\u001b[1;34m\u001b[0m\n\u001b[1;32m----> 1\u001b[1;33m \u001b[0mw2v_model\u001b[0m \u001b[1;33m=\u001b[0m \u001b[0mWord2Vec\u001b[0m\u001b[1;33m(\u001b[0m\u001b[0msentences\u001b[0m\u001b[1;33m=\u001b[0m\u001b[0msentences\u001b[0m\u001b[1;33m,\u001b[0m \u001b[0mwindow\u001b[0m\u001b[1;33m=\u001b[0m\u001b[1;36m5\u001b[0m\u001b[1;33m,\u001b[0m \u001b[0mmin_count\u001b[0m\u001b[1;33m=\u001b[0m\u001b[1;36m1\u001b[0m\u001b[1;33m,\u001b[0m \u001b[0mworkers\u001b[0m\u001b[1;33m=\u001b[0m\u001b[1;36m4\u001b[0m\u001b[1;33m)\u001b[0m\u001b[1;33m\u001b[0m\u001b[1;33m\u001b[0m\u001b[0m\n\u001b[0m",
      "\u001b[1;32m~\\AppData\\Local\\Programs\\Python\\Python38\\lib\\site-packages\\gensim\\models\\word2vec.py\u001b[0m in \u001b[0;36m__init__\u001b[1;34m(self, sentences, size, alpha, window, min_count, max_vocab_size, sample, seed, workers, min_alpha, sg, hs, negative, cbow_mean, hashfxn, iter, null_word, trim_rule, sorted_vocab, batch_words, compute_loss, callbacks)\u001b[0m\n\u001b[0;32m    521\u001b[0m         \u001b[0mself\u001b[0m\u001b[1;33m.\u001b[0m\u001b[0mtrainables\u001b[0m \u001b[1;33m=\u001b[0m \u001b[0mWord2VecTrainables\u001b[0m\u001b[1;33m(\u001b[0m\u001b[0mseed\u001b[0m\u001b[1;33m=\u001b[0m\u001b[0mseed\u001b[0m\u001b[1;33m,\u001b[0m \u001b[0mvector_size\u001b[0m\u001b[1;33m=\u001b[0m\u001b[0msize\u001b[0m\u001b[1;33m,\u001b[0m \u001b[0mhashfxn\u001b[0m\u001b[1;33m=\u001b[0m\u001b[0mhashfxn\u001b[0m\u001b[1;33m)\u001b[0m\u001b[1;33m\u001b[0m\u001b[1;33m\u001b[0m\u001b[0m\n\u001b[0;32m    522\u001b[0m \u001b[1;33m\u001b[0m\u001b[0m\n\u001b[1;32m--> 523\u001b[1;33m         super(Word2Vec, self).__init__(\n\u001b[0m\u001b[0;32m    524\u001b[0m             \u001b[0msentences\u001b[0m\u001b[1;33m=\u001b[0m\u001b[0msentences\u001b[0m\u001b[1;33m,\u001b[0m \u001b[0mworkers\u001b[0m\u001b[1;33m=\u001b[0m\u001b[0mworkers\u001b[0m\u001b[1;33m,\u001b[0m \u001b[0mvector_size\u001b[0m\u001b[1;33m=\u001b[0m\u001b[0msize\u001b[0m\u001b[1;33m,\u001b[0m \u001b[0mepochs\u001b[0m\u001b[1;33m=\u001b[0m\u001b[0miter\u001b[0m\u001b[1;33m,\u001b[0m \u001b[0mcallbacks\u001b[0m\u001b[1;33m=\u001b[0m\u001b[0mcallbacks\u001b[0m\u001b[1;33m,\u001b[0m\u001b[1;33m\u001b[0m\u001b[1;33m\u001b[0m\u001b[0m\n\u001b[0;32m    525\u001b[0m             \u001b[0mbatch_words\u001b[0m\u001b[1;33m=\u001b[0m\u001b[0mbatch_words\u001b[0m\u001b[1;33m,\u001b[0m \u001b[0mtrim_rule\u001b[0m\u001b[1;33m=\u001b[0m\u001b[0mtrim_rule\u001b[0m\u001b[1;33m,\u001b[0m \u001b[0msg\u001b[0m\u001b[1;33m=\u001b[0m\u001b[0msg\u001b[0m\u001b[1;33m,\u001b[0m \u001b[0malpha\u001b[0m\u001b[1;33m=\u001b[0m\u001b[0malpha\u001b[0m\u001b[1;33m,\u001b[0m \u001b[0mwindow\u001b[0m\u001b[1;33m=\u001b[0m\u001b[0mwindow\u001b[0m\u001b[1;33m,\u001b[0m \u001b[0mseed\u001b[0m\u001b[1;33m=\u001b[0m\u001b[0mseed\u001b[0m\u001b[1;33m,\u001b[0m\u001b[1;33m\u001b[0m\u001b[1;33m\u001b[0m\u001b[0m\n",
      "\u001b[1;32m~\\AppData\\Local\\Programs\\Python\\Python38\\lib\\site-packages\\gensim\\models\\base_any2vec.py\u001b[0m in \u001b[0;36m__init__\u001b[1;34m(self, sentences, workers, vector_size, epochs, callbacks, batch_words, trim_rule, sg, alpha, window, seed, hs, negative, cbow_mean, min_alpha, compute_loss, fast_version, **kwargs)\u001b[0m\n\u001b[0;32m    333\u001b[0m             \u001b[1;32mif\u001b[0m \u001b[0misinstance\u001b[0m\u001b[1;33m(\u001b[0m\u001b[0msentences\u001b[0m\u001b[1;33m,\u001b[0m \u001b[0mGeneratorType\u001b[0m\u001b[1;33m)\u001b[0m\u001b[1;33m:\u001b[0m\u001b[1;33m\u001b[0m\u001b[1;33m\u001b[0m\u001b[0m\n\u001b[0;32m    334\u001b[0m                 \u001b[1;32mraise\u001b[0m \u001b[0mTypeError\u001b[0m\u001b[1;33m(\u001b[0m\u001b[1;34m\"You can't pass a generator as the sentences argument. Try an iterator.\"\u001b[0m\u001b[1;33m)\u001b[0m\u001b[1;33m\u001b[0m\u001b[1;33m\u001b[0m\u001b[0m\n\u001b[1;32m--> 335\u001b[1;33m             \u001b[0mself\u001b[0m\u001b[1;33m.\u001b[0m\u001b[0mbuild_vocab\u001b[0m\u001b[1;33m(\u001b[0m\u001b[0msentences\u001b[0m\u001b[1;33m,\u001b[0m \u001b[0mtrim_rule\u001b[0m\u001b[1;33m=\u001b[0m\u001b[0mtrim_rule\u001b[0m\u001b[1;33m)\u001b[0m\u001b[1;33m\u001b[0m\u001b[1;33m\u001b[0m\u001b[0m\n\u001b[0m\u001b[0;32m    336\u001b[0m             self.train(\n\u001b[0;32m    337\u001b[0m                 \u001b[0msentences\u001b[0m\u001b[1;33m,\u001b[0m \u001b[0mtotal_examples\u001b[0m\u001b[1;33m=\u001b[0m\u001b[0mself\u001b[0m\u001b[1;33m.\u001b[0m\u001b[0mcorpus_count\u001b[0m\u001b[1;33m,\u001b[0m \u001b[0mepochs\u001b[0m\u001b[1;33m=\u001b[0m\u001b[0mself\u001b[0m\u001b[1;33m.\u001b[0m\u001b[0mepochs\u001b[0m\u001b[1;33m,\u001b[0m \u001b[0mstart_alpha\u001b[0m\u001b[1;33m=\u001b[0m\u001b[0mself\u001b[0m\u001b[1;33m.\u001b[0m\u001b[0malpha\u001b[0m\u001b[1;33m,\u001b[0m\u001b[1;33m\u001b[0m\u001b[1;33m\u001b[0m\u001b[0m\n",
      "\u001b[1;32m~\\AppData\\Local\\Programs\\Python\\Python38\\lib\\site-packages\\gensim\\models\\base_any2vec.py\u001b[0m in \u001b[0;36mbuild_vocab\u001b[1;34m(self, sentences, update, progress_per, keep_raw_vocab, trim_rule, **kwargs)\u001b[0m\n\u001b[0;32m    477\u001b[0m \u001b[1;33m\u001b[0m\u001b[0m\n\u001b[0;32m    478\u001b[0m         \"\"\"\n\u001b[1;32m--> 479\u001b[1;33m         total_words, corpus_count = self.vocabulary.scan_vocab(\n\u001b[0m\u001b[0;32m    480\u001b[0m             sentences, progress_per=progress_per, trim_rule=trim_rule)\n\u001b[0;32m    481\u001b[0m         \u001b[0mself\u001b[0m\u001b[1;33m.\u001b[0m\u001b[0mcorpus_count\u001b[0m \u001b[1;33m=\u001b[0m \u001b[0mcorpus_count\u001b[0m\u001b[1;33m\u001b[0m\u001b[1;33m\u001b[0m\u001b[0m\n",
      "\u001b[1;32m~\\AppData\\Local\\Programs\\Python\\Python38\\lib\\site-packages\\gensim\\models\\word2vec.py\u001b[0m in \u001b[0;36mscan_vocab\u001b[1;34m(self, sentences, progress_per, trim_rule)\u001b[0m\n\u001b[0;32m   1164\u001b[0m                 )\n\u001b[0;32m   1165\u001b[0m             \u001b[1;32mfor\u001b[0m \u001b[0mword\u001b[0m \u001b[1;32min\u001b[0m \u001b[0msentence\u001b[0m\u001b[1;33m:\u001b[0m\u001b[1;33m\u001b[0m\u001b[1;33m\u001b[0m\u001b[0m\n\u001b[1;32m-> 1166\u001b[1;33m                 \u001b[0mvocab\u001b[0m\u001b[1;33m[\u001b[0m\u001b[0mword\u001b[0m\u001b[1;33m]\u001b[0m \u001b[1;33m+=\u001b[0m \u001b[1;36m1\u001b[0m\u001b[1;33m\u001b[0m\u001b[1;33m\u001b[0m\u001b[0m\n\u001b[0m\u001b[0;32m   1167\u001b[0m             \u001b[0mtotal_words\u001b[0m \u001b[1;33m+=\u001b[0m \u001b[0mlen\u001b[0m\u001b[1;33m(\u001b[0m\u001b[0msentence\u001b[0m\u001b[1;33m)\u001b[0m\u001b[1;33m\u001b[0m\u001b[1;33m\u001b[0m\u001b[0m\n\u001b[0;32m   1168\u001b[0m \u001b[1;33m\u001b[0m\u001b[0m\n",
      "\u001b[1;31mTypeError\u001b[0m: unhashable type: 'list'"
     ]
    }
   ],
   "source": [
    "\n",
    "\n",
    "w2v_model = Word2Vec(sentences=sentences, window=5, min_count=1, workers=4)\n"
   ]
  },
  {
   "cell_type": "code",
   "execution_count": 19,
   "metadata": {},
   "outputs": [],
   "source": [
    "w2v_model.save(\"word2vec.model\")"
   ]
  },
  {
   "cell_type": "code",
   "execution_count": 20,
   "metadata": {},
   "outputs": [
    {
     "output_type": "execute_result",
     "data": {
      "text/plain": [
       "(0, 2)"
      ]
     },
     "metadata": {},
     "execution_count": 20
    }
   ],
   "source": [
    "w2v_model.train([[\"hello\", \"world\"]], total_examples=1, epochs=1)\n",
    "\n"
   ]
  },
  {
   "cell_type": "code",
   "execution_count": 21,
   "metadata": {},
   "outputs": [],
   "source": [
    "vector = w2v_model.wv['computer']  # get numpy vector of a word\n"
   ]
  },
  {
   "cell_type": "code",
   "execution_count": 24,
   "metadata": {},
   "outputs": [],
   "source": [
    "word_vectors = w2v_model.wv\n",
    "word_vectors.save(\"word2vec.wordvectors\")"
   ]
  },
  {
   "cell_type": "code",
   "execution_count": 25,
   "metadata": {},
   "outputs": [],
   "source": [
    "\n",
    "# Load back with memory-mapping = read-only, shared across processes.\n",
    "wv = KeyedVectors.load(\"word2vec.wordvectors\", mmap='r')"
   ]
  },
  {
   "cell_type": "code",
   "execution_count": 27,
   "metadata": {},
   "outputs": [
    {
     "output_type": "stream",
     "name": "stdout",
     "text": [
      "[ 1.15491007e-03  2.79715797e-03 -7.30237050e-04 -3.61661636e-03\n -1.25703018e-03 -3.70841939e-03  3.88440304e-03  2.34143669e-03\n  8.97919352e-04 -3.17122292e-04  2.08622543e-03  4.25704150e-03\n -1.62361783e-03  2.00490397e-03 -3.63403605e-03  4.09305608e-03\n  4.67981678e-03 -3.91034177e-03 -2.93007097e-03 -1.40125549e-03\n  1.39478501e-03  2.35921913e-03 -2.21680486e-04  2.96301511e-03\n -2.68467376e-03 -4.40968247e-03  1.50076870e-03  1.34463818e-03\n -1.78622548e-03  2.12645228e-03  1.09648902e-03  3.46927045e-05\n  3.80328111e-03 -3.04001779e-03 -1.41283614e-03 -2.34158547e-03\n -3.29743302e-03 -6.85641658e-04  4.62506758e-03  6.41452149e-04\n  2.64819805e-03  3.17722326e-03 -6.08624716e-04  2.45678751e-03\n  3.21232434e-03 -3.39720887e-03  1.20694726e-03 -4.02489165e-03\n -1.74551981e-03 -2.59828335e-03  2.41689826e-03 -3.40645597e-03\n  2.15120893e-03  4.85611241e-03  3.89780221e-03 -3.81649751e-03\n -3.02031008e-03 -2.00263388e-03 -3.35373130e-04  1.45606359e-03\n -1.69014372e-03 -3.68365785e-03 -2.34190421e-03 -3.99750238e-03\n -1.21094205e-03 -1.56288105e-03 -8.61433451e-04 -6.09981762e-05\n -3.28196422e-03 -3.32407118e-03  3.78087885e-03 -1.17104035e-04\n -3.27677489e-03 -9.28387526e-05 -3.85519303e-03  1.24084763e-03\n -4.17271955e-03 -4.34736954e-03 -1.63758127e-03  1.02331702e-04\n  1.97183908e-04 -6.71538408e-04 -7.51769519e-04  4.34367079e-03\n -1.79321319e-03 -4.48242156e-03 -9.90066794e-04 -3.42359068e-03\n -7.36432266e-04  1.78322429e-03 -2.18177331e-03  1.11329556e-03\n  4.70661232e-03  7.57468166e-04  3.51566286e-03 -9.39098885e-04\n  3.54151893e-03  3.52447317e-03  4.26506903e-03 -2.63362192e-03]\n"
     ]
    }
   ],
   "source": [
    "vector = wv['computer']  # Get numpy vector of a word\n",
    "print(vector)"
   ]
  },
  {
   "cell_type": "code",
   "execution_count": 32,
   "metadata": {},
   "outputs": [
    {
     "output_type": "error",
     "ename": "KeyError",
     "evalue": "\"word 'parliament' not in vocabulary\"",
     "traceback": [
      "\u001b[1;31m---------------------------------------------------------------------------\u001b[0m",
      "\u001b[1;31mKeyError\u001b[0m                                  Traceback (most recent call last)",
      "\u001b[1;32m<ipython-input-32-cd3ff0f4baa5>\u001b[0m in \u001b[0;36m<module>\u001b[1;34m\u001b[0m\n\u001b[1;32m----> 1\u001b[1;33m \u001b[0mwv\u001b[0m\u001b[1;33m[\u001b[0m\u001b[1;34m\"parliament\"\u001b[0m\u001b[1;33m]\u001b[0m\u001b[1;33m\u001b[0m\u001b[1;33m\u001b[0m\u001b[0m\n\u001b[0m",
      "\u001b[1;32m~\\AppData\\Local\\Programs\\Python\\Python38\\lib\\site-packages\\gensim\\models\\keyedvectors.py\u001b[0m in \u001b[0;36m__getitem__\u001b[1;34m(self, entities)\u001b[0m\n\u001b[0;32m    167\u001b[0m         \u001b[1;32mif\u001b[0m \u001b[0misinstance\u001b[0m\u001b[1;33m(\u001b[0m\u001b[0mentities\u001b[0m\u001b[1;33m,\u001b[0m \u001b[0mstring_types\u001b[0m\u001b[1;33m)\u001b[0m\u001b[1;33m:\u001b[0m\u001b[1;33m\u001b[0m\u001b[1;33m\u001b[0m\u001b[0m\n\u001b[0;32m    168\u001b[0m             \u001b[1;31m# allow calls like trained_model['office'], as a shorthand for trained_model[['office']]\u001b[0m\u001b[1;33m\u001b[0m\u001b[1;33m\u001b[0m\u001b[1;33m\u001b[0m\u001b[0m\n\u001b[1;32m--> 169\u001b[1;33m             \u001b[1;32mreturn\u001b[0m \u001b[0mself\u001b[0m\u001b[1;33m.\u001b[0m\u001b[0mget_vector\u001b[0m\u001b[1;33m(\u001b[0m\u001b[0mentities\u001b[0m\u001b[1;33m)\u001b[0m\u001b[1;33m\u001b[0m\u001b[1;33m\u001b[0m\u001b[0m\n\u001b[0m\u001b[0;32m    170\u001b[0m \u001b[1;33m\u001b[0m\u001b[0m\n\u001b[0;32m    171\u001b[0m         \u001b[1;32mreturn\u001b[0m \u001b[0mvstack\u001b[0m\u001b[1;33m(\u001b[0m\u001b[1;33m[\u001b[0m\u001b[0mself\u001b[0m\u001b[1;33m.\u001b[0m\u001b[0mget_vector\u001b[0m\u001b[1;33m(\u001b[0m\u001b[0mentity\u001b[0m\u001b[1;33m)\u001b[0m \u001b[1;32mfor\u001b[0m \u001b[0mentity\u001b[0m \u001b[1;32min\u001b[0m \u001b[0mentities\u001b[0m\u001b[1;33m]\u001b[0m\u001b[1;33m)\u001b[0m\u001b[1;33m\u001b[0m\u001b[1;33m\u001b[0m\u001b[0m\n",
      "\u001b[1;32m~\\AppData\\Local\\Programs\\Python\\Python38\\lib\\site-packages\\gensim\\models\\keyedvectors.py\u001b[0m in \u001b[0;36mget_vector\u001b[1;34m(self, word)\u001b[0m\n\u001b[0;32m    275\u001b[0m \u001b[1;33m\u001b[0m\u001b[0m\n\u001b[0;32m    276\u001b[0m     \u001b[1;32mdef\u001b[0m \u001b[0mget_vector\u001b[0m\u001b[1;33m(\u001b[0m\u001b[0mself\u001b[0m\u001b[1;33m,\u001b[0m \u001b[0mword\u001b[0m\u001b[1;33m)\u001b[0m\u001b[1;33m:\u001b[0m\u001b[1;33m\u001b[0m\u001b[1;33m\u001b[0m\u001b[0m\n\u001b[1;32m--> 277\u001b[1;33m         \u001b[1;32mreturn\u001b[0m \u001b[0mself\u001b[0m\u001b[1;33m.\u001b[0m\u001b[0mword_vec\u001b[0m\u001b[1;33m(\u001b[0m\u001b[0mword\u001b[0m\u001b[1;33m)\u001b[0m\u001b[1;33m\u001b[0m\u001b[1;33m\u001b[0m\u001b[0m\n\u001b[0m\u001b[0;32m    278\u001b[0m \u001b[1;33m\u001b[0m\u001b[0m\n\u001b[0;32m    279\u001b[0m     \u001b[1;32mdef\u001b[0m \u001b[0mwords_closer_than\u001b[0m\u001b[1;33m(\u001b[0m\u001b[0mself\u001b[0m\u001b[1;33m,\u001b[0m \u001b[0mw1\u001b[0m\u001b[1;33m,\u001b[0m \u001b[0mw2\u001b[0m\u001b[1;33m)\u001b[0m\u001b[1;33m:\u001b[0m\u001b[1;33m\u001b[0m\u001b[1;33m\u001b[0m\u001b[0m\n",
      "\u001b[1;32m~\\AppData\\Local\\Programs\\Python\\Python38\\lib\\site-packages\\gensim\\models\\keyedvectors.py\u001b[0m in \u001b[0;36mword_vec\u001b[1;34m(self, word, use_norm)\u001b[0m\n\u001b[0;32m    272\u001b[0m             \u001b[1;32mreturn\u001b[0m \u001b[0mresult\u001b[0m\u001b[1;33m\u001b[0m\u001b[1;33m\u001b[0m\u001b[0m\n\u001b[0;32m    273\u001b[0m         \u001b[1;32melse\u001b[0m\u001b[1;33m:\u001b[0m\u001b[1;33m\u001b[0m\u001b[1;33m\u001b[0m\u001b[0m\n\u001b[1;32m--> 274\u001b[1;33m             \u001b[1;32mraise\u001b[0m \u001b[0mKeyError\u001b[0m\u001b[1;33m(\u001b[0m\u001b[1;34m\"word '%s' not in vocabulary\"\u001b[0m \u001b[1;33m%\u001b[0m \u001b[0mword\u001b[0m\u001b[1;33m)\u001b[0m\u001b[1;33m\u001b[0m\u001b[1;33m\u001b[0m\u001b[0m\n\u001b[0m\u001b[0;32m    275\u001b[0m \u001b[1;33m\u001b[0m\u001b[0m\n\u001b[0;32m    276\u001b[0m     \u001b[1;32mdef\u001b[0m \u001b[0mget_vector\u001b[0m\u001b[1;33m(\u001b[0m\u001b[0mself\u001b[0m\u001b[1;33m,\u001b[0m \u001b[0mword\u001b[0m\u001b[1;33m)\u001b[0m\u001b[1;33m:\u001b[0m\u001b[1;33m\u001b[0m\u001b[1;33m\u001b[0m\u001b[0m\n",
      "\u001b[1;31mKeyError\u001b[0m: \"word 'parliament' not in vocabulary\""
     ]
    }
   ],
   "source": [
    "wv[\"parliament\"]"
   ]
  },
  {
   "cell_type": "code",
   "execution_count": null,
   "metadata": {},
   "outputs": [],
   "source": []
  }
 ]
}